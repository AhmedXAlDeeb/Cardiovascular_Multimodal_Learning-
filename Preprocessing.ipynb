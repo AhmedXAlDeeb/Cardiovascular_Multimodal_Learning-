{
  "nbformat": 4,
  "nbformat_minor": 0,
  "metadata": {
    "colab": {
      "provenance": [],
      "collapsed_sections": [
        "yRfdS0rSV-5b",
        "cJnK4_ijZeO_"
      ],
      "authorship_tag": "ABX9TyM6VThNmPw8jdEDAW0OCyXP",
      "include_colab_link": true
    },
    "kernelspec": {
      "name": "python3",
      "display_name": "Python 3"
    },
    "language_info": {
      "name": "python"
    }
  },
  "cells": [
    {
      "cell_type": "markdown",
      "metadata": {
        "id": "view-in-github",
        "colab_type": "text"
      },
      "source": [
        "<a href=\"https://colab.research.google.com/github/Mostafaali3/Machine_Learning_Project/blob/main/Preprocessing.ipynb\" target=\"_parent\"><img src=\"https://colab.research.google.com/assets/colab-badge.svg\" alt=\"Open In Colab\"/></a>"
      ]
    },
    {
      "cell_type": "markdown",
      "source": [
        "# Setup"
      ],
      "metadata": {
        "id": "BQ474S3Miwod"
      }
    },
    {
      "cell_type": "code",
      "source": [
        "!pip install wfdb\n",
        "!pip install scipy\n",
        "!pip install antropy"
      ],
      "metadata": {
        "colab": {
          "base_uri": "https://localhost:8080/"
        },
        "id": "duFuhoUzYbAG",
        "outputId": "5ad3dc04-e75e-48d2-e152-28b362199b4a",
        "collapsed": true
      },
      "execution_count": 3,
      "outputs": [
        {
          "output_type": "stream",
          "name": "stdout",
          "text": [
            "Collecting wfdb\n",
            "  Downloading wfdb-4.3.0-py3-none-any.whl.metadata (3.8 kB)\n",
            "Requirement already satisfied: aiohttp>=3.10.11 in /usr/local/lib/python3.11/dist-packages (from wfdb) (3.11.15)\n",
            "Requirement already satisfied: fsspec>=2023.10.0 in /usr/local/lib/python3.11/dist-packages (from wfdb) (2025.3.2)\n",
            "Requirement already satisfied: matplotlib>=3.2.2 in /usr/local/lib/python3.11/dist-packages (from wfdb) (3.10.0)\n",
            "Requirement already satisfied: numpy>=1.26.4 in /usr/local/lib/python3.11/dist-packages (from wfdb) (2.0.2)\n",
            "Collecting pandas>=2.2.3 (from wfdb)\n",
            "  Downloading pandas-2.2.3-cp311-cp311-manylinux_2_17_x86_64.manylinux2014_x86_64.whl.metadata (89 kB)\n",
            "\u001b[2K     \u001b[90m━━━━━━━━━━━━━━━━━━━━━━━━━━━━━━━━━━━━━━━━\u001b[0m \u001b[32m89.9/89.9 kB\u001b[0m \u001b[31m2.6 MB/s\u001b[0m eta \u001b[36m0:00:00\u001b[0m\n",
            "\u001b[?25hRequirement already satisfied: requests>=2.8.1 in /usr/local/lib/python3.11/dist-packages (from wfdb) (2.32.3)\n",
            "Requirement already satisfied: scipy>=1.13.0 in /usr/local/lib/python3.11/dist-packages (from wfdb) (1.15.2)\n",
            "Requirement already satisfied: soundfile>=0.10.0 in /usr/local/lib/python3.11/dist-packages (from wfdb) (0.13.1)\n",
            "Requirement already satisfied: aiohappyeyeballs>=2.3.0 in /usr/local/lib/python3.11/dist-packages (from aiohttp>=3.10.11->wfdb) (2.6.1)\n",
            "Requirement already satisfied: aiosignal>=1.1.2 in /usr/local/lib/python3.11/dist-packages (from aiohttp>=3.10.11->wfdb) (1.3.2)\n",
            "Requirement already satisfied: attrs>=17.3.0 in /usr/local/lib/python3.11/dist-packages (from aiohttp>=3.10.11->wfdb) (25.3.0)\n",
            "Requirement already satisfied: frozenlist>=1.1.1 in /usr/local/lib/python3.11/dist-packages (from aiohttp>=3.10.11->wfdb) (1.6.0)\n",
            "Requirement already satisfied: multidict<7.0,>=4.5 in /usr/local/lib/python3.11/dist-packages (from aiohttp>=3.10.11->wfdb) (6.4.3)\n",
            "Requirement already satisfied: propcache>=0.2.0 in /usr/local/lib/python3.11/dist-packages (from aiohttp>=3.10.11->wfdb) (0.3.1)\n",
            "Requirement already satisfied: yarl<2.0,>=1.17.0 in /usr/local/lib/python3.11/dist-packages (from aiohttp>=3.10.11->wfdb) (1.20.0)\n",
            "Requirement already satisfied: contourpy>=1.0.1 in /usr/local/lib/python3.11/dist-packages (from matplotlib>=3.2.2->wfdb) (1.3.2)\n",
            "Requirement already satisfied: cycler>=0.10 in /usr/local/lib/python3.11/dist-packages (from matplotlib>=3.2.2->wfdb) (0.12.1)\n",
            "Requirement already satisfied: fonttools>=4.22.0 in /usr/local/lib/python3.11/dist-packages (from matplotlib>=3.2.2->wfdb) (4.57.0)\n",
            "Requirement already satisfied: kiwisolver>=1.3.1 in /usr/local/lib/python3.11/dist-packages (from matplotlib>=3.2.2->wfdb) (1.4.8)\n",
            "Requirement already satisfied: packaging>=20.0 in /usr/local/lib/python3.11/dist-packages (from matplotlib>=3.2.2->wfdb) (24.2)\n",
            "Requirement already satisfied: pillow>=8 in /usr/local/lib/python3.11/dist-packages (from matplotlib>=3.2.2->wfdb) (11.2.1)\n",
            "Requirement already satisfied: pyparsing>=2.3.1 in /usr/local/lib/python3.11/dist-packages (from matplotlib>=3.2.2->wfdb) (3.2.3)\n",
            "Requirement already satisfied: python-dateutil>=2.7 in /usr/local/lib/python3.11/dist-packages (from matplotlib>=3.2.2->wfdb) (2.9.0.post0)\n",
            "Requirement already satisfied: pytz>=2020.1 in /usr/local/lib/python3.11/dist-packages (from pandas>=2.2.3->wfdb) (2025.2)\n",
            "Requirement already satisfied: tzdata>=2022.7 in /usr/local/lib/python3.11/dist-packages (from pandas>=2.2.3->wfdb) (2025.2)\n",
            "Requirement already satisfied: charset-normalizer<4,>=2 in /usr/local/lib/python3.11/dist-packages (from requests>=2.8.1->wfdb) (3.4.1)\n",
            "Requirement already satisfied: idna<4,>=2.5 in /usr/local/lib/python3.11/dist-packages (from requests>=2.8.1->wfdb) (3.10)\n",
            "Requirement already satisfied: urllib3<3,>=1.21.1 in /usr/local/lib/python3.11/dist-packages (from requests>=2.8.1->wfdb) (2.4.0)\n",
            "Requirement already satisfied: certifi>=2017.4.17 in /usr/local/lib/python3.11/dist-packages (from requests>=2.8.1->wfdb) (2025.1.31)\n",
            "Requirement already satisfied: cffi>=1.0 in /usr/local/lib/python3.11/dist-packages (from soundfile>=0.10.0->wfdb) (1.17.1)\n",
            "Requirement already satisfied: pycparser in /usr/local/lib/python3.11/dist-packages (from cffi>=1.0->soundfile>=0.10.0->wfdb) (2.22)\n",
            "Requirement already satisfied: six>=1.5 in /usr/local/lib/python3.11/dist-packages (from python-dateutil>=2.7->matplotlib>=3.2.2->wfdb) (1.17.0)\n",
            "Downloading wfdb-4.3.0-py3-none-any.whl (163 kB)\n",
            "\u001b[2K   \u001b[90m━━━━━━━━━━━━━━━━━━━━━━━━━━━━━━━━━━━━━━━━\u001b[0m \u001b[32m163.8/163.8 kB\u001b[0m \u001b[31m6.2 MB/s\u001b[0m eta \u001b[36m0:00:00\u001b[0m\n",
            "\u001b[?25hDownloading pandas-2.2.3-cp311-cp311-manylinux_2_17_x86_64.manylinux2014_x86_64.whl (13.1 MB)\n",
            "\u001b[2K   \u001b[90m━━━━━━━━━━━━━━━━━━━━━━━━━━━━━━━━━━━━━━━━\u001b[0m \u001b[32m13.1/13.1 MB\u001b[0m \u001b[31m93.9 MB/s\u001b[0m eta \u001b[36m0:00:00\u001b[0m\n",
            "\u001b[?25hInstalling collected packages: pandas, wfdb\n",
            "  Attempting uninstall: pandas\n",
            "    Found existing installation: pandas 2.2.2\n",
            "    Uninstalling pandas-2.2.2:\n",
            "      Successfully uninstalled pandas-2.2.2\n",
            "\u001b[31mERROR: pip's dependency resolver does not currently take into account all the packages that are installed. This behaviour is the source of the following dependency conflicts.\n",
            "google-colab 1.0.0 requires pandas==2.2.2, but you have pandas 2.2.3 which is incompatible.\u001b[0m\u001b[31m\n",
            "\u001b[0mSuccessfully installed pandas-2.2.3 wfdb-4.3.0\n",
            "Requirement already satisfied: scipy in /usr/local/lib/python3.11/dist-packages (1.15.2)\n",
            "Requirement already satisfied: numpy<2.5,>=1.23.5 in /usr/local/lib/python3.11/dist-packages (from scipy) (2.0.2)\n",
            "Collecting antropy\n",
            "  Downloading antropy-0.1.9-py3-none-any.whl.metadata (6.6 kB)\n",
            "Requirement already satisfied: numpy in /usr/local/lib/python3.11/dist-packages (from antropy) (2.0.2)\n",
            "Requirement already satisfied: scipy in /usr/local/lib/python3.11/dist-packages (from antropy) (1.15.2)\n",
            "Requirement already satisfied: scikit-learn in /usr/local/lib/python3.11/dist-packages (from antropy) (1.6.1)\n",
            "Requirement already satisfied: numba>=0.57 in /usr/local/lib/python3.11/dist-packages (from antropy) (0.60.0)\n",
            "Requirement already satisfied: llvmlite<0.44,>=0.43.0dev0 in /usr/local/lib/python3.11/dist-packages (from numba>=0.57->antropy) (0.43.0)\n",
            "Requirement already satisfied: joblib>=1.2.0 in /usr/local/lib/python3.11/dist-packages (from scikit-learn->antropy) (1.4.2)\n",
            "Requirement already satisfied: threadpoolctl>=3.1.0 in /usr/local/lib/python3.11/dist-packages (from scikit-learn->antropy) (3.6.0)\n",
            "Downloading antropy-0.1.9-py3-none-any.whl (18 kB)\n",
            "Installing collected packages: antropy\n",
            "Successfully installed antropy-0.1.9\n"
          ]
        }
      ]
    },
    {
      "cell_type": "code",
      "source": [
        "from google.colab import drive\n",
        "drive.mount('/content/drive')"
      ],
      "metadata": {
        "colab": {
          "base_uri": "https://localhost:8080/"
        },
        "id": "gDUd1msRKbDL",
        "outputId": "6e481ae2-77df-4e4d-a2de-f102cd1c58a0"
      },
      "execution_count": 4,
      "outputs": [
        {
          "output_type": "stream",
          "name": "stdout",
          "text": [
            "Mounted at /content/drive\n"
          ]
        }
      ]
    },
    {
      "cell_type": "code",
      "source": [
        "#@title Imports\n",
        "import numpy as np\n",
        "import pandas as pd\n",
        "import wfdb\n",
        "import matplotlib.pyplot as plt\n",
        "import scipy\n",
        "from scipy.signal import welch, find_peaks\n",
        "import antropy as ant\n",
        "import os\n",
        "import csv"
      ],
      "metadata": {
        "collapsed": true,
        "id": "1zHrFXRqd1gb"
      },
      "execution_count": 80,
      "outputs": []
    },
    {
      "cell_type": "code",
      "source": [
        "#@title Important Paths\n",
        "original_dataset_path = '/content/drive/MyDrive/ML Project Dataset/1.0.0'  # path of dataset in your drive\n",
        "split_dataset_path = '/content/drive/MyDrive/ML Project Dataset/Split Records'  # middle step\n",
        "final_dataset_path = '/content/drive/MyDrive/ML Project Dataset/Final Dataset'\n",
        "records_path = f'{original_dataset_path}/WFDB'\n",
        "labels_csv_path = f'{original_dataset_path}/ECGPCGSpreadsheet.csv'\n",
        "final_labels_csv = f'{final_dataset_path}/labels.csv'"
      ],
      "metadata": {
        "id": "iFfSRhZCVH8F"
      },
      "execution_count": 114,
      "outputs": []
    },
    {
      "cell_type": "markdown",
      "source": [
        "# Exploratory Data Analysis (EDA)"
      ],
      "metadata": {
        "id": "X07yrT0xVBX2"
      }
    },
    {
      "cell_type": "markdown",
      "source": [
        "## Data Exploration"
      ],
      "metadata": {
        "id": "EELrqYypuRGI"
      }
    },
    {
      "cell_type": "code",
      "source": [
        "example_record = wfdb.rdrecord(f\"{records_path}/ECGPCG0001\")\n",
        "print(dir(example_record))  # all record attributes"
      ],
      "metadata": {
        "colab": {
          "base_uri": "https://localhost:8080/",
          "height": 159
        },
        "id": "aEiMt7LxuSud",
        "outputId": "7d23349c-54d8-4067-b53d-e6138d095a6f"
      },
      "execution_count": 115,
      "outputs": [
        {
          "output_type": "error",
          "ename": "TypeError",
          "evalue": "'str' object is not callable",
          "traceback": [
            "\u001b[0;31m---------------------------------------------------------------------------\u001b[0m",
            "\u001b[0;31mTypeError\u001b[0m                                 Traceback (most recent call last)",
            "\u001b[0;32m<ipython-input-115-a69d358d8a6c>\u001b[0m in \u001b[0;36m<cell line: 0>\u001b[0;34m()\u001b[0m\n\u001b[1;32m      1\u001b[0m \u001b[0mexample_record\u001b[0m \u001b[0;34m=\u001b[0m \u001b[0mwfdb\u001b[0m\u001b[0;34m.\u001b[0m\u001b[0mrdrecord\u001b[0m\u001b[0;34m(\u001b[0m\u001b[0;34mf\"{records_path}/ECGPCG0001\"\u001b[0m\u001b[0;34m)\u001b[0m\u001b[0;34m\u001b[0m\u001b[0;34m\u001b[0m\u001b[0m\n\u001b[0;32m----> 2\u001b[0;31m \u001b[0mprint\u001b[0m\u001b[0;34m(\u001b[0m\u001b[0mdir\u001b[0m\u001b[0;34m(\u001b[0m\u001b[0mexample_record\u001b[0m\u001b[0;34m)\u001b[0m\u001b[0;34m)\u001b[0m  \u001b[0;31m# all record attributes\u001b[0m\u001b[0;34m\u001b[0m\u001b[0;34m\u001b[0m\u001b[0m\n\u001b[0m",
            "\u001b[0;31mTypeError\u001b[0m: 'str' object is not callable"
          ]
        }
      ]
    },
    {
      "cell_type": "code",
      "source": [
        "def print_record_info(record):\n",
        "  print(f\"Record Name {type(record.record_name)}:\", record.record_name)\n",
        "  print(f\"Number of Signals {type(record.n_sig)}:\", record.n_sig)\n",
        "  print(f\"Sampling Frequency (Hz) {type(record.fs)}:\", record.fs)\n",
        "  print(f\"Signal Names {type(record.sig_name)}:\", record.sig_name)\n",
        "  print(f\"Signal Units {type(record.units)}:\", record.units)\n",
        "  print(f\"Comments {type(record.comments)}:\", record.comments)  # doesn't carry label\n",
        "  print(f\"Signal Length {type(record.sig_len)}:\", record.sig_len)\n",
        "  print(f\"Elapsed Time {type(record.get_elapsed_time)}:\", record.get_elapsed_time(record.sig_len))  # we can use this to verify duration of signal\n",
        "  print(f\"Signal {type(record.p_signal)}, {record.p_signal.shape}:\", record.p_signal)  # carries both signals\n",
        "\n",
        "print_record_info(example_record)"
      ],
      "metadata": {
        "colab": {
          "base_uri": "https://localhost:8080/"
        },
        "id": "mlcrdmt4u2Ns",
        "outputId": "da8c5c90-100f-4c69-fb05-586bd7eb3d42"
      },
      "execution_count": 102,
      "outputs": [
        {
          "output_type": "stream",
          "name": "stdout",
          "text": [
            "Record Name <class 'str'>: ECGPCG0001\n",
            "Number of Signals <class 'int'>: 2\n",
            "Sampling Frequency (Hz) <class 'int'>: 8000\n",
            "Signal Names <class 'list'>: ['ECG', 'PCG']\n",
            "Signal Units <class 'list'>: ['mV', 'mV']\n",
            "Comments <class 'list'>: ['The simultaneous electrocardiogram and phonocardiogram database']\n",
            "Signal Length <class 'int'>: 14400000\n",
            "Elapsed Time <class 'method'>: 0:30:00\n",
            "Signal <class 'numpy.ndarray'>, (14400000, 2): [[-0.02735159  0.99950676]\n",
            " [-0.02831017 -0.00145639]\n",
            " [-0.02831017 -0.00196053]\n",
            " ...\n",
            " [ 0.01757403  0.03711005]\n",
            " [ 0.01708409  0.03565366]\n",
            " [ 0.01757403  0.03514952]]\n"
          ]
        }
      ]
    },
    {
      "cell_type": "markdown",
      "source": [
        "## Labels CSV Processing"
      ],
      "metadata": {
        "id": "fpLeKxiFuMJ1"
      }
    },
    {
      "cell_type": "code",
      "source": [
        "labels_df = pd.read_csv(labels_csv_path)\n",
        "labels_df.head()"
      ],
      "metadata": {
        "colab": {
          "base_uri": "https://localhost:8080/",
          "height": 533
        },
        "id": "GOAAm5wYMY-W",
        "outputId": "9934e1ff-cf71-45bb-e773-ecd4f9d61a39"
      },
      "execution_count": 7,
      "outputs": [
        {
          "output_type": "execute_result",
          "data": {
            "text/plain": [
              "  Record Name Subject ID  Record Duration (min)  Age (years) Gender  \\\n",
              "0  ECGPCG0001       S023                   30.0          NaN   Male   \n",
              "1  ECGPCG0002       S024                   30.0          NaN   Male   \n",
              "2  ECGPCG0003       S003                    0.5         28.0   Male   \n",
              "3  ECGPCG0004       S004                    0.5         26.0   Male   \n",
              "4  ECGPCG0005       S005                    0.5         23.0   Male   \n",
              "\n",
              "                        Recording Scenario  Num Channels  \\\n",
              "0  Exercise: pedaling a stationary bicycle           2.0   \n",
              "1  Exercise: pedaling a stationary bicycle           2.0   \n",
              "2                Rest: sitting on armchair           2.0   \n",
              "3                Rest: sitting on armchair           5.0   \n",
              "4                Rest: sitting on armchair           5.0   \n",
              "\n",
              "                     ECG Notes                         PCG Notes  \\\n",
              "0                         Good                              Good   \n",
              "1  Good; occasional saturation                              Good   \n",
              "2                         Good                              Good   \n",
              "3                         Good  Occasional burst powerline noise   \n",
              "4                         Good  Occasional burst powerline noise   \n",
              "\n",
              "                  PCG2 Notes  ... Unnamed: 35 Unnamed: 36 Unnamed: 37  \\\n",
              "0                        NaN  ...         NaN         NaN         NaN   \n",
              "1                        NaN  ...         NaN         NaN         NaN   \n",
              "2                        NaN  ...         NaN         NaN         NaN   \n",
              "3  Quantization noise level   ...         NaN         NaN         NaN   \n",
              "4  Quantization noise level   ...         NaN         NaN         NaN   \n",
              "\n",
              "   Unnamed: 38  Unnamed: 39  Unnamed: 40  Unnamed: 41  Unnamed: 42  \\\n",
              "0          NaN          NaN          NaN          NaN          NaN   \n",
              "1          NaN          NaN          NaN          NaN          NaN   \n",
              "2          NaN          NaN          NaN          NaN          NaN   \n",
              "3          NaN          NaN          NaN          NaN          NaN   \n",
              "4          NaN          NaN          NaN          NaN          NaN   \n",
              "\n",
              "   Unnamed: 43  Unnamed: 44  \n",
              "0          NaN          NaN  \n",
              "1          NaN          NaN  \n",
              "2          NaN          NaN  \n",
              "3          NaN          NaN  \n",
              "4          NaN          NaN  \n",
              "\n",
              "[5 rows x 45 columns]"
            ],
            "text/html": [
              "\n",
              "  <div id=\"df-6600dec0-e196-4cc0-9460-7bc5b5b2b3d2\" class=\"colab-df-container\">\n",
              "    <div>\n",
              "<style scoped>\n",
              "    .dataframe tbody tr th:only-of-type {\n",
              "        vertical-align: middle;\n",
              "    }\n",
              "\n",
              "    .dataframe tbody tr th {\n",
              "        vertical-align: top;\n",
              "    }\n",
              "\n",
              "    .dataframe thead th {\n",
              "        text-align: right;\n",
              "    }\n",
              "</style>\n",
              "<table border=\"1\" class=\"dataframe\">\n",
              "  <thead>\n",
              "    <tr style=\"text-align: right;\">\n",
              "      <th></th>\n",
              "      <th>Record Name</th>\n",
              "      <th>Subject ID</th>\n",
              "      <th>Record Duration (min)</th>\n",
              "      <th>Age (years)</th>\n",
              "      <th>Gender</th>\n",
              "      <th>Recording Scenario</th>\n",
              "      <th>Num Channels</th>\n",
              "      <th>ECG Notes</th>\n",
              "      <th>PCG Notes</th>\n",
              "      <th>PCG2 Notes</th>\n",
              "      <th>...</th>\n",
              "      <th>Unnamed: 35</th>\n",
              "      <th>Unnamed: 36</th>\n",
              "      <th>Unnamed: 37</th>\n",
              "      <th>Unnamed: 38</th>\n",
              "      <th>Unnamed: 39</th>\n",
              "      <th>Unnamed: 40</th>\n",
              "      <th>Unnamed: 41</th>\n",
              "      <th>Unnamed: 42</th>\n",
              "      <th>Unnamed: 43</th>\n",
              "      <th>Unnamed: 44</th>\n",
              "    </tr>\n",
              "  </thead>\n",
              "  <tbody>\n",
              "    <tr>\n",
              "      <th>0</th>\n",
              "      <td>ECGPCG0001</td>\n",
              "      <td>S023</td>\n",
              "      <td>30.0</td>\n",
              "      <td>NaN</td>\n",
              "      <td>Male</td>\n",
              "      <td>Exercise: pedaling a stationary bicycle</td>\n",
              "      <td>2.0</td>\n",
              "      <td>Good</td>\n",
              "      <td>Good</td>\n",
              "      <td>NaN</td>\n",
              "      <td>...</td>\n",
              "      <td>NaN</td>\n",
              "      <td>NaN</td>\n",
              "      <td>NaN</td>\n",
              "      <td>NaN</td>\n",
              "      <td>NaN</td>\n",
              "      <td>NaN</td>\n",
              "      <td>NaN</td>\n",
              "      <td>NaN</td>\n",
              "      <td>NaN</td>\n",
              "      <td>NaN</td>\n",
              "    </tr>\n",
              "    <tr>\n",
              "      <th>1</th>\n",
              "      <td>ECGPCG0002</td>\n",
              "      <td>S024</td>\n",
              "      <td>30.0</td>\n",
              "      <td>NaN</td>\n",
              "      <td>Male</td>\n",
              "      <td>Exercise: pedaling a stationary bicycle</td>\n",
              "      <td>2.0</td>\n",
              "      <td>Good; occasional saturation</td>\n",
              "      <td>Good</td>\n",
              "      <td>NaN</td>\n",
              "      <td>...</td>\n",
              "      <td>NaN</td>\n",
              "      <td>NaN</td>\n",
              "      <td>NaN</td>\n",
              "      <td>NaN</td>\n",
              "      <td>NaN</td>\n",
              "      <td>NaN</td>\n",
              "      <td>NaN</td>\n",
              "      <td>NaN</td>\n",
              "      <td>NaN</td>\n",
              "      <td>NaN</td>\n",
              "    </tr>\n",
              "    <tr>\n",
              "      <th>2</th>\n",
              "      <td>ECGPCG0003</td>\n",
              "      <td>S003</td>\n",
              "      <td>0.5</td>\n",
              "      <td>28.0</td>\n",
              "      <td>Male</td>\n",
              "      <td>Rest: sitting on armchair</td>\n",
              "      <td>2.0</td>\n",
              "      <td>Good</td>\n",
              "      <td>Good</td>\n",
              "      <td>NaN</td>\n",
              "      <td>...</td>\n",
              "      <td>NaN</td>\n",
              "      <td>NaN</td>\n",
              "      <td>NaN</td>\n",
              "      <td>NaN</td>\n",
              "      <td>NaN</td>\n",
              "      <td>NaN</td>\n",
              "      <td>NaN</td>\n",
              "      <td>NaN</td>\n",
              "      <td>NaN</td>\n",
              "      <td>NaN</td>\n",
              "    </tr>\n",
              "    <tr>\n",
              "      <th>3</th>\n",
              "      <td>ECGPCG0004</td>\n",
              "      <td>S004</td>\n",
              "      <td>0.5</td>\n",
              "      <td>26.0</td>\n",
              "      <td>Male</td>\n",
              "      <td>Rest: sitting on armchair</td>\n",
              "      <td>5.0</td>\n",
              "      <td>Good</td>\n",
              "      <td>Occasional burst powerline noise</td>\n",
              "      <td>Quantization noise level</td>\n",
              "      <td>...</td>\n",
              "      <td>NaN</td>\n",
              "      <td>NaN</td>\n",
              "      <td>NaN</td>\n",
              "      <td>NaN</td>\n",
              "      <td>NaN</td>\n",
              "      <td>NaN</td>\n",
              "      <td>NaN</td>\n",
              "      <td>NaN</td>\n",
              "      <td>NaN</td>\n",
              "      <td>NaN</td>\n",
              "    </tr>\n",
              "    <tr>\n",
              "      <th>4</th>\n",
              "      <td>ECGPCG0005</td>\n",
              "      <td>S005</td>\n",
              "      <td>0.5</td>\n",
              "      <td>23.0</td>\n",
              "      <td>Male</td>\n",
              "      <td>Rest: sitting on armchair</td>\n",
              "      <td>5.0</td>\n",
              "      <td>Good</td>\n",
              "      <td>Occasional burst powerline noise</td>\n",
              "      <td>Quantization noise level</td>\n",
              "      <td>...</td>\n",
              "      <td>NaN</td>\n",
              "      <td>NaN</td>\n",
              "      <td>NaN</td>\n",
              "      <td>NaN</td>\n",
              "      <td>NaN</td>\n",
              "      <td>NaN</td>\n",
              "      <td>NaN</td>\n",
              "      <td>NaN</td>\n",
              "      <td>NaN</td>\n",
              "      <td>NaN</td>\n",
              "    </tr>\n",
              "  </tbody>\n",
              "</table>\n",
              "<p>5 rows × 45 columns</p>\n",
              "</div>\n",
              "    <div class=\"colab-df-buttons\">\n",
              "\n",
              "  <div class=\"colab-df-container\">\n",
              "    <button class=\"colab-df-convert\" onclick=\"convertToInteractive('df-6600dec0-e196-4cc0-9460-7bc5b5b2b3d2')\"\n",
              "            title=\"Convert this dataframe to an interactive table.\"\n",
              "            style=\"display:none;\">\n",
              "\n",
              "  <svg xmlns=\"http://www.w3.org/2000/svg\" height=\"24px\" viewBox=\"0 -960 960 960\">\n",
              "    <path d=\"M120-120v-720h720v720H120Zm60-500h600v-160H180v160Zm220 220h160v-160H400v160Zm0 220h160v-160H400v160ZM180-400h160v-160H180v160Zm440 0h160v-160H620v160ZM180-180h160v-160H180v160Zm440 0h160v-160H620v160Z\"/>\n",
              "  </svg>\n",
              "    </button>\n",
              "\n",
              "  <style>\n",
              "    .colab-df-container {\n",
              "      display:flex;\n",
              "      gap: 12px;\n",
              "    }\n",
              "\n",
              "    .colab-df-convert {\n",
              "      background-color: #E8F0FE;\n",
              "      border: none;\n",
              "      border-radius: 50%;\n",
              "      cursor: pointer;\n",
              "      display: none;\n",
              "      fill: #1967D2;\n",
              "      height: 32px;\n",
              "      padding: 0 0 0 0;\n",
              "      width: 32px;\n",
              "    }\n",
              "\n",
              "    .colab-df-convert:hover {\n",
              "      background-color: #E2EBFA;\n",
              "      box-shadow: 0px 1px 2px rgba(60, 64, 67, 0.3), 0px 1px 3px 1px rgba(60, 64, 67, 0.15);\n",
              "      fill: #174EA6;\n",
              "    }\n",
              "\n",
              "    .colab-df-buttons div {\n",
              "      margin-bottom: 4px;\n",
              "    }\n",
              "\n",
              "    [theme=dark] .colab-df-convert {\n",
              "      background-color: #3B4455;\n",
              "      fill: #D2E3FC;\n",
              "    }\n",
              "\n",
              "    [theme=dark] .colab-df-convert:hover {\n",
              "      background-color: #434B5C;\n",
              "      box-shadow: 0px 1px 3px 1px rgba(0, 0, 0, 0.15);\n",
              "      filter: drop-shadow(0px 1px 2px rgba(0, 0, 0, 0.3));\n",
              "      fill: #FFFFFF;\n",
              "    }\n",
              "  </style>\n",
              "\n",
              "    <script>\n",
              "      const buttonEl =\n",
              "        document.querySelector('#df-6600dec0-e196-4cc0-9460-7bc5b5b2b3d2 button.colab-df-convert');\n",
              "      buttonEl.style.display =\n",
              "        google.colab.kernel.accessAllowed ? 'block' : 'none';\n",
              "\n",
              "      async function convertToInteractive(key) {\n",
              "        const element = document.querySelector('#df-6600dec0-e196-4cc0-9460-7bc5b5b2b3d2');\n",
              "        const dataTable =\n",
              "          await google.colab.kernel.invokeFunction('convertToInteractive',\n",
              "                                                    [key], {});\n",
              "        if (!dataTable) return;\n",
              "\n",
              "        const docLinkHtml = 'Like what you see? Visit the ' +\n",
              "          '<a target=\"_blank\" href=https://colab.research.google.com/notebooks/data_table.ipynb>data table notebook</a>'\n",
              "          + ' to learn more about interactive tables.';\n",
              "        element.innerHTML = '';\n",
              "        dataTable['output_type'] = 'display_data';\n",
              "        await google.colab.output.renderOutput(dataTable, element);\n",
              "        const docLink = document.createElement('div');\n",
              "        docLink.innerHTML = docLinkHtml;\n",
              "        element.appendChild(docLink);\n",
              "      }\n",
              "    </script>\n",
              "  </div>\n",
              "\n",
              "\n",
              "    <div id=\"df-c8c79b96-67ec-4ae6-bc90-9d2d8879b046\">\n",
              "      <button class=\"colab-df-quickchart\" onclick=\"quickchart('df-c8c79b96-67ec-4ae6-bc90-9d2d8879b046')\"\n",
              "                title=\"Suggest charts\"\n",
              "                style=\"display:none;\">\n",
              "\n",
              "<svg xmlns=\"http://www.w3.org/2000/svg\" height=\"24px\"viewBox=\"0 0 24 24\"\n",
              "     width=\"24px\">\n",
              "    <g>\n",
              "        <path d=\"M19 3H5c-1.1 0-2 .9-2 2v14c0 1.1.9 2 2 2h14c1.1 0 2-.9 2-2V5c0-1.1-.9-2-2-2zM9 17H7v-7h2v7zm4 0h-2V7h2v10zm4 0h-2v-4h2v4z\"/>\n",
              "    </g>\n",
              "</svg>\n",
              "      </button>\n",
              "\n",
              "<style>\n",
              "  .colab-df-quickchart {\n",
              "      --bg-color: #E8F0FE;\n",
              "      --fill-color: #1967D2;\n",
              "      --hover-bg-color: #E2EBFA;\n",
              "      --hover-fill-color: #174EA6;\n",
              "      --disabled-fill-color: #AAA;\n",
              "      --disabled-bg-color: #DDD;\n",
              "  }\n",
              "\n",
              "  [theme=dark] .colab-df-quickchart {\n",
              "      --bg-color: #3B4455;\n",
              "      --fill-color: #D2E3FC;\n",
              "      --hover-bg-color: #434B5C;\n",
              "      --hover-fill-color: #FFFFFF;\n",
              "      --disabled-bg-color: #3B4455;\n",
              "      --disabled-fill-color: #666;\n",
              "  }\n",
              "\n",
              "  .colab-df-quickchart {\n",
              "    background-color: var(--bg-color);\n",
              "    border: none;\n",
              "    border-radius: 50%;\n",
              "    cursor: pointer;\n",
              "    display: none;\n",
              "    fill: var(--fill-color);\n",
              "    height: 32px;\n",
              "    padding: 0;\n",
              "    width: 32px;\n",
              "  }\n",
              "\n",
              "  .colab-df-quickchart:hover {\n",
              "    background-color: var(--hover-bg-color);\n",
              "    box-shadow: 0 1px 2px rgba(60, 64, 67, 0.3), 0 1px 3px 1px rgba(60, 64, 67, 0.15);\n",
              "    fill: var(--button-hover-fill-color);\n",
              "  }\n",
              "\n",
              "  .colab-df-quickchart-complete:disabled,\n",
              "  .colab-df-quickchart-complete:disabled:hover {\n",
              "    background-color: var(--disabled-bg-color);\n",
              "    fill: var(--disabled-fill-color);\n",
              "    box-shadow: none;\n",
              "  }\n",
              "\n",
              "  .colab-df-spinner {\n",
              "    border: 2px solid var(--fill-color);\n",
              "    border-color: transparent;\n",
              "    border-bottom-color: var(--fill-color);\n",
              "    animation:\n",
              "      spin 1s steps(1) infinite;\n",
              "  }\n",
              "\n",
              "  @keyframes spin {\n",
              "    0% {\n",
              "      border-color: transparent;\n",
              "      border-bottom-color: var(--fill-color);\n",
              "      border-left-color: var(--fill-color);\n",
              "    }\n",
              "    20% {\n",
              "      border-color: transparent;\n",
              "      border-left-color: var(--fill-color);\n",
              "      border-top-color: var(--fill-color);\n",
              "    }\n",
              "    30% {\n",
              "      border-color: transparent;\n",
              "      border-left-color: var(--fill-color);\n",
              "      border-top-color: var(--fill-color);\n",
              "      border-right-color: var(--fill-color);\n",
              "    }\n",
              "    40% {\n",
              "      border-color: transparent;\n",
              "      border-right-color: var(--fill-color);\n",
              "      border-top-color: var(--fill-color);\n",
              "    }\n",
              "    60% {\n",
              "      border-color: transparent;\n",
              "      border-right-color: var(--fill-color);\n",
              "    }\n",
              "    80% {\n",
              "      border-color: transparent;\n",
              "      border-right-color: var(--fill-color);\n",
              "      border-bottom-color: var(--fill-color);\n",
              "    }\n",
              "    90% {\n",
              "      border-color: transparent;\n",
              "      border-bottom-color: var(--fill-color);\n",
              "    }\n",
              "  }\n",
              "</style>\n",
              "\n",
              "      <script>\n",
              "        async function quickchart(key) {\n",
              "          const quickchartButtonEl =\n",
              "            document.querySelector('#' + key + ' button');\n",
              "          quickchartButtonEl.disabled = true;  // To prevent multiple clicks.\n",
              "          quickchartButtonEl.classList.add('colab-df-spinner');\n",
              "          try {\n",
              "            const charts = await google.colab.kernel.invokeFunction(\n",
              "                'suggestCharts', [key], {});\n",
              "          } catch (error) {\n",
              "            console.error('Error during call to suggestCharts:', error);\n",
              "          }\n",
              "          quickchartButtonEl.classList.remove('colab-df-spinner');\n",
              "          quickchartButtonEl.classList.add('colab-df-quickchart-complete');\n",
              "        }\n",
              "        (() => {\n",
              "          let quickchartButtonEl =\n",
              "            document.querySelector('#df-c8c79b96-67ec-4ae6-bc90-9d2d8879b046 button');\n",
              "          quickchartButtonEl.style.display =\n",
              "            google.colab.kernel.accessAllowed ? 'block' : 'none';\n",
              "        })();\n",
              "      </script>\n",
              "    </div>\n",
              "\n",
              "    </div>\n",
              "  </div>\n"
            ],
            "application/vnd.google.colaboratory.intrinsic+json": {
              "type": "dataframe",
              "variable_name": "labels_df"
            }
          },
          "metadata": {},
          "execution_count": 7
        }
      ]
    },
    {
      "cell_type": "markdown",
      "source": [
        "### Dropping empty rows"
      ],
      "metadata": {
        "id": "BQyKzFR4L6Lc"
      }
    },
    {
      "cell_type": "code",
      "source": [
        "print(f\"Count of empty rows: {labels_df.isnull().all(axis=1).sum()}\")\n",
        "empty_rows = labels_df[labels_df.isnull().all(axis=1)]\n",
        "print(empty_rows)"
      ],
      "metadata": {
        "colab": {
          "base_uri": "https://localhost:8080/"
        },
        "id": "uLocxFJ8Ug8r",
        "outputId": "82b30f88-524b-46f0-f3a7-df4b642303a9"
      },
      "execution_count": 8,
      "outputs": [
        {
          "output_type": "stream",
          "name": "stdout",
          "text": [
            "Count of empty rows: 1\n",
            "   Record Name Subject ID  Record Duration (min)  Age (years) Gender  \\\n",
            "69         NaN        NaN                    NaN          NaN    NaN   \n",
            "\n",
            "   Recording Scenario  Num Channels ECG Notes PCG Notes PCG2 Notes  ...  \\\n",
            "69                NaN           NaN       NaN       NaN        NaN  ...   \n",
            "\n",
            "   Unnamed: 35 Unnamed: 36 Unnamed: 37  Unnamed: 38  Unnamed: 39  Unnamed: 40  \\\n",
            "69         NaN         NaN         NaN          NaN          NaN          NaN   \n",
            "\n",
            "    Unnamed: 41  Unnamed: 42  Unnamed: 43  Unnamed: 44  \n",
            "69          NaN          NaN          NaN          NaN  \n",
            "\n",
            "[1 rows x 45 columns]\n"
          ]
        }
      ]
    },
    {
      "cell_type": "code",
      "source": [
        "labels_df.drop(empty_rows.index, inplace=True)\n",
        "labels_df.reset_index(drop=True, inplace=True)\n",
        "\n",
        "print(f\"Count of empty rows: {labels_df.isnull().all(axis=1).sum()}\")"
      ],
      "metadata": {
        "colab": {
          "base_uri": "https://localhost:8080/"
        },
        "id": "jOaoEXYuWaPl",
        "outputId": "8ee47fa3-d302-4985-b497-595e034275f6"
      },
      "execution_count": 9,
      "outputs": [
        {
          "output_type": "stream",
          "name": "stdout",
          "text": [
            "Count of empty rows: 0\n"
          ]
        }
      ]
    },
    {
      "cell_type": "markdown",
      "source": [
        "### Ignoring empty columns"
      ],
      "metadata": {
        "id": "yRfdS0rSV-5b"
      }
    },
    {
      "cell_type": "code",
      "source": [
        "labels_df.columns"
      ],
      "metadata": {
        "colab": {
          "base_uri": "https://localhost:8080/"
        },
        "id": "FW_e9_m0PSYv",
        "outputId": "385b26c1-d106-4d38-bf86-24d723182508"
      },
      "execution_count": 10,
      "outputs": [
        {
          "output_type": "execute_result",
          "data": {
            "text/plain": [
              "Index(['Record Name', 'Subject ID', 'Record Duration (min)', 'Age (years)',\n",
              "       'Gender', 'Recording Scenario', 'Num Channels', 'ECG Notes',\n",
              "       'PCG Notes', 'PCG2 Notes', 'AUX1 Notes', 'AUX2 Notes',\n",
              "       'Database Housekeeping', 'Unnamed: 13', 'Unnamed: 14', 'Unnamed: 15',\n",
              "       'Unnamed: 16', 'Unnamed: 17', 'Unnamed: 18', 'Unnamed: 19',\n",
              "       'Unnamed: 20', 'Unnamed: 21', 'Unnamed: 22', 'Unnamed: 23',\n",
              "       'Unnamed: 24', 'Unnamed: 25', 'Unnamed: 26', 'Unnamed: 27',\n",
              "       'Unnamed: 28', 'Unnamed: 29', 'Unnamed: 30', 'Unnamed: 31',\n",
              "       'Unnamed: 32', 'Unnamed: 33', 'Unnamed: 34', 'Unnamed: 35',\n",
              "       'Unnamed: 36', 'Unnamed: 37', 'Unnamed: 38', 'Unnamed: 39',\n",
              "       'Unnamed: 40', 'Unnamed: 41', 'Unnamed: 42', 'Unnamed: 43',\n",
              "       'Unnamed: 44'],\n",
              "      dtype='object')"
            ]
          },
          "metadata": {},
          "execution_count": 10
        }
      ]
    },
    {
      "cell_type": "code",
      "source": [
        "# keep relative columns only\n",
        "labels_df = labels_df[['Record Name', 'Subject ID', 'Record Duration (min)', 'Age (years)',\n",
        "       'Gender', 'Recording Scenario', 'Num Channels', 'ECG Notes',\n",
        "       'PCG Notes', 'PCG2 Notes', 'AUX1 Notes', 'AUX2 Notes',\n",
        "       'Database Housekeeping']]\n",
        "labels_df.columns"
      ],
      "metadata": {
        "colab": {
          "base_uri": "https://localhost:8080/"
        },
        "id": "AsePTfNzU2xv",
        "outputId": "242869fa-4f64-470d-bff3-372ce88e3bac"
      },
      "execution_count": 11,
      "outputs": [
        {
          "output_type": "execute_result",
          "data": {
            "text/plain": [
              "Index(['Record Name', 'Subject ID', 'Record Duration (min)', 'Age (years)',\n",
              "       'Gender', 'Recording Scenario', 'Num Channels', 'ECG Notes',\n",
              "       'PCG Notes', 'PCG2 Notes', 'AUX1 Notes', 'AUX2 Notes',\n",
              "       'Database Housekeeping'],\n",
              "      dtype='object')"
            ]
          },
          "metadata": {},
          "execution_count": 11
        }
      ]
    },
    {
      "cell_type": "markdown",
      "source": [
        "### Identifying all unique scenarios and durations of experiment"
      ],
      "metadata": {
        "id": "2_EDFHIhWEOd"
      }
    },
    {
      "cell_type": "code",
      "source": [
        "labels_df['Recording Scenario'].unique()"
      ],
      "metadata": {
        "colab": {
          "base_uri": "https://localhost:8080/"
        },
        "id": "7fArnhfIQbn1",
        "outputId": "bdf4aaa6-3499-4bba-f636-c34a92030fd3"
      },
      "execution_count": 12,
      "outputs": [
        {
          "output_type": "execute_result",
          "data": {
            "text/plain": [
              "array(['Exercise: pedaling a stationary bicycle',\n",
              "       'Rest: sitting on armchair', 'Rest: laying on bed',\n",
              "       'Exercise: slow walk (7 min); fast walk (8 min); sit down and stand up (4 min); slow walk (6 min);rest',\n",
              "       'Exercise: slow walk (7 min); fast walk (8 min); sit down and stand up (4 min); slow walk (6 min); rest',\n",
              "       'Exercise: Bruce protocol treadmill stress test',\n",
              "       'Exercise: walking at constant speed (3.7 km/h) ',\n",
              "       'Exercise: bicycle stress test'], dtype=object)"
            ]
          },
          "metadata": {},
          "execution_count": 12
        }
      ]
    },
    {
      "cell_type": "code",
      "source": [
        "# Two identical scenarios have a small typo that makes them appear different\n",
        "labels_df['Recording Scenario']  = labels_df['Recording Scenario'].replace(\n",
        "   'Exercise: slow walk (7 min); fast walk (8 min); sit down and stand up (4 min); slow walk (6 min);rest',\n",
        "   'Exercise: slow walk (7 min); fast walk (8 min); sit down and stand up (4 min); slow walk (6 min); rest'\n",
        ")"
      ],
      "metadata": {
        "id": "qgoW8IShQ6c1"
      },
      "execution_count": 13,
      "outputs": []
    },
    {
      "cell_type": "code",
      "source": [
        "all_recording_scenarios = labels_df['Recording Scenario'].unique()\n",
        "print(all_recording_scenarios)\n",
        "print()\n",
        "print(labels_df['Record Duration (min)'].unique())"
      ],
      "metadata": {
        "colab": {
          "base_uri": "https://localhost:8080/"
        },
        "id": "WbqsaFfGQwuW",
        "outputId": "d8077ca0-f1a2-4ad3-d458-c1c5b4a8e34f"
      },
      "execution_count": 14,
      "outputs": [
        {
          "output_type": "stream",
          "name": "stdout",
          "text": [
            "['Exercise: pedaling a stationary bicycle' 'Rest: sitting on armchair'\n",
            " 'Rest: laying on bed'\n",
            " 'Exercise: slow walk (7 min); fast walk (8 min); sit down and stand up (4 min); slow walk (6 min); rest'\n",
            " 'Exercise: Bruce protocol treadmill stress test'\n",
            " 'Exercise: walking at constant speed (3.7 km/h) '\n",
            " 'Exercise: bicycle stress test']\n",
            "\n",
            "[30.   0.5]\n"
          ]
        }
      ]
    },
    {
      "cell_type": "code",
      "source": [
        "for i, scenario in enumerate(all_recording_scenarios):\n",
        "  print(f\"Index: {i}, Scenario: {scenario}\")\n",
        "  print(labels_df[labels_df['Recording Scenario'] == scenario]['Record Duration (min)'].unique())\n",
        "  print()"
      ],
      "metadata": {
        "colab": {
          "base_uri": "https://localhost:8080/"
        },
        "id": "i6WGbYyElQtf",
        "outputId": "4d960c9e-14d2-4180-c2d3-d1137d25b8dc"
      },
      "execution_count": 21,
      "outputs": [
        {
          "output_type": "stream",
          "name": "stdout",
          "text": [
            "Index: 0, Scenario: Exercise: pedaling a stationary bicycle\n",
            "[30.]\n",
            "\n",
            "Index: 1, Scenario: Rest: sitting on armchair\n",
            "[ 0.5 30. ]\n",
            "\n",
            "Index: 2, Scenario: Rest: laying on bed\n",
            "[30.]\n",
            "\n",
            "Index: 3, Scenario: Exercise: slow walk (7 min); fast walk (8 min); sit down and stand up (4 min); slow walk (6 min); rest\n",
            "[30.]\n",
            "\n",
            "Index: 4, Scenario: Exercise: Bruce protocol treadmill stress test\n",
            "[30.]\n",
            "\n",
            "Index: 5, Scenario: Exercise: walking at constant speed (3.7 km/h) \n",
            "[30.]\n",
            "\n",
            "Index: 6, Scenario: Exercise: bicycle stress test\n",
            "[30.]\n",
            "\n"
          ]
        }
      ]
    },
    {
      "cell_type": "markdown",
      "source": [
        "## Dividing Long Records"
      ],
      "metadata": {
        "id": "nXQmGJ4gYNys"
      }
    },
    {
      "cell_type": "code",
      "source": [
        "def save_new_record(record, segment_signal, write_dir):\n",
        "  wfdb.wrsamp(\n",
        "      record_name=f'{record.record_name}_{i+1}',\n",
        "      p_signal=segment_signal,\n",
        "      fs=record.fs,\n",
        "      sig_name=record.sig_name,\n",
        "      units=record.units,\n",
        "      write_dir=write_dir\n",
        "    )"
      ],
      "metadata": {
        "id": "CsC42_gkItko"
      },
      "execution_count": 127,
      "outputs": []
    },
    {
      "cell_type": "code",
      "source": [
        "def split_record(record):\n",
        "  \"\"\"\n",
        "  Splits records with the scenario:\n",
        "  Exercise: slow walk (7 min); fast walk (8 min); sit down and stand up (4 min); slow walk (6 min); rest\n",
        "  \"\"\"\n",
        "  # record = wfdb.rdrecord(file_path)\n",
        "  fs = record.fs  # sampling freq\n",
        "\n",
        "  durations = [7, 8, 4, 6, 5]  # durations of the different scenarios in minutes\n",
        "  labels = [\"Slow walk\", \"Fast walk\", \"Sit down and stand up\", \"Slow walk\", \"Rest\"]\n",
        "  samples_per_segment = [int(duration * 60 * fs) for duration in durations] # convert segment durations to samples\n",
        "\n",
        "  # Split and write files\n",
        "  start = 0\n",
        "  for i, segment_samples in enumerate(samples_per_segment):\n",
        "    end = start + segment_samples\n",
        "    segment_signal = record.p_signal[start:end]\n",
        "    save_new_record(record, segment_signal, write_dir=split_dataset_path)\n",
        "\n",
        "    with open(final_labels_csv, mode='a', newline='') as file:  # save new label\n",
        "      writer = csv.writer(file)\n",
        "      if not os.path.exists(final_labels_csv) or os.stat(final_labels_csv).st_size == 0:\n",
        "        writer.writerow(['Record Name', 'Label'])  # Write header\n",
        "      else:\n",
        "        writer.writerow([f'{record.record_name}_{i+1}', labels[i]])\n",
        "\n",
        "    start = end  # update start for the next segment"
      ],
      "metadata": {
        "id": "q2uiCipQZgEz"
      },
      "execution_count": 124,
      "outputs": []
    },
    {
      "cell_type": "code",
      "source": [
        "def extract_four_mins(record):\n",
        "  \"\"\"\n",
        "  Extracts 5 minutes from the original records or from split records (ex: recording scenario index 3).\n",
        "  \"\"\"\n",
        "  fs = record.fs\n",
        "  four_minutes_samples = 4 * 60 * fs  # 4 minutes worth of samples\n",
        "  start = (record.sig_len // 2) - (four_minutes_samples // 2)\n",
        "  end = start + four_minutes_samples\n",
        "  middle_segment = record.p_signal[start:end]\n",
        "  save_new_record(record, middle_segment, write_dir=final_dataset_path)\n"
      ],
      "metadata": {
        "id": "s_XoOQ4_p6oy"
      },
      "execution_count": 125,
      "outputs": []
    },
    {
      "cell_type": "code",
      "source": [
        "def standarize_data_duration(records_path):\n",
        "  \"\"\"\n",
        "  Main function to split all of the data.\n",
        "  \"\"\"\n",
        "  # First Step (splitting scenarios if needed. If not, extract 4 mins)\n",
        "  for filename in os.listdir(records_path):\n",
        "    file_path = os.path.join(records_path, filename)\n",
        "    if filename.endswith(\".hea\"):  # avoid duplicate processing of the same record\n",
        "      record = wfdb.rdrecord(f\"{records_path}/{filename.split('.')[0]}\")\n",
        "      recording_scenario = labels_df.loc[labels_df['Record Name'] == record.record_name, 'Recording Scenario'].values[0]\n",
        "      # print(record.record_name, recording_scenario)\n",
        "      if recording_scenario == all_recording_scenarios[3]:  # multiple scenarios in one record (split before standardizing duration)\n",
        "        split_record(record)\n",
        "      else:\n",
        "        extract_four_mins(record)  # standardize duration\n",
        "\n",
        "    # Second Split (extracting 4 minutes from each scenario)\n",
        "    for filename in os.listdir(split_dataset_path):\n",
        "      file_path = os.path.join(split_dataset_path, filename)\n",
        "      if filename.endswith(\".hea\"):\n",
        "        record = wfdb.rdrecord(f\"{records_path}/{filename.split('.')[0]}\")\n",
        "        extract_four_mins(record)\n",
        "\n",
        "\n",
        "# test_path = \"/content/drive/MyDrive/ML Project Dataset/Test\"\n",
        "standarize_data_duration(records_path)\n"
      ],
      "metadata": {
        "colab": {
          "base_uri": "https://localhost:8080/",
          "height": 321
        },
        "collapsed": true,
        "id": "ZgJJ-dzUNhVN",
        "outputId": "ff620ba8-0f44-4afa-b7e1-d55496429a8a"
      },
      "execution_count": 129,
      "outputs": [
        {
          "output_type": "error",
          "ename": "KeyboardInterrupt",
          "evalue": "",
          "traceback": [
            "\u001b[0;31m---------------------------------------------------------------------------\u001b[0m",
            "\u001b[0;31mKeyboardInterrupt\u001b[0m                         Traceback (most recent call last)",
            "\u001b[0;32m<ipython-input-129-64a45a6f48e4>\u001b[0m in \u001b[0;36m<cell line: 0>\u001b[0;34m()\u001b[0m\n\u001b[1;32m     24\u001b[0m \u001b[0;34m\u001b[0m\u001b[0m\n\u001b[1;32m     25\u001b[0m \u001b[0;31m# test_path = \"/content/drive/MyDrive/ML Project Dataset/Test\"\u001b[0m\u001b[0;34m\u001b[0m\u001b[0;34m\u001b[0m\u001b[0m\n\u001b[0;32m---> 26\u001b[0;31m \u001b[0mstandarize_data_duration\u001b[0m\u001b[0;34m(\u001b[0m\u001b[0mrecords_path\u001b[0m\u001b[0;34m)\u001b[0m\u001b[0;34m\u001b[0m\u001b[0;34m\u001b[0m\u001b[0m\n\u001b[0m",
            "\u001b[0;32m<ipython-input-129-64a45a6f48e4>\u001b[0m in \u001b[0;36mstandarize_data_duration\u001b[0;34m(records_path)\u001b[0m\n\u001b[1;32m      7\u001b[0m     \u001b[0mfile_path\u001b[0m \u001b[0;34m=\u001b[0m \u001b[0mos\u001b[0m\u001b[0;34m.\u001b[0m\u001b[0mpath\u001b[0m\u001b[0;34m.\u001b[0m\u001b[0mjoin\u001b[0m\u001b[0;34m(\u001b[0m\u001b[0mrecords_path\u001b[0m\u001b[0;34m,\u001b[0m \u001b[0mfilename\u001b[0m\u001b[0;34m)\u001b[0m\u001b[0;34m\u001b[0m\u001b[0;34m\u001b[0m\u001b[0m\n\u001b[1;32m      8\u001b[0m     \u001b[0;32mif\u001b[0m \u001b[0mfilename\u001b[0m\u001b[0;34m.\u001b[0m\u001b[0mendswith\u001b[0m\u001b[0;34m(\u001b[0m\u001b[0;34m\".hea\"\u001b[0m\u001b[0;34m)\u001b[0m\u001b[0;34m:\u001b[0m  \u001b[0;31m# avoid duplicate processing of the same record\u001b[0m\u001b[0;34m\u001b[0m\u001b[0;34m\u001b[0m\u001b[0m\n\u001b[0;32m----> 9\u001b[0;31m       \u001b[0mrecord\u001b[0m \u001b[0;34m=\u001b[0m \u001b[0mwfdb\u001b[0m\u001b[0;34m.\u001b[0m\u001b[0mrdrecord\u001b[0m\u001b[0;34m(\u001b[0m\u001b[0;34mf\"{records_path}/{filename.split('.')[0]}\"\u001b[0m\u001b[0;34m)\u001b[0m\u001b[0;34m\u001b[0m\u001b[0;34m\u001b[0m\u001b[0m\n\u001b[0m\u001b[1;32m     10\u001b[0m       \u001b[0mrecording_scenario\u001b[0m \u001b[0;34m=\u001b[0m \u001b[0mlabels_df\u001b[0m\u001b[0;34m.\u001b[0m\u001b[0mloc\u001b[0m\u001b[0;34m[\u001b[0m\u001b[0mlabels_df\u001b[0m\u001b[0;34m[\u001b[0m\u001b[0;34m'Record Name'\u001b[0m\u001b[0;34m]\u001b[0m \u001b[0;34m==\u001b[0m \u001b[0mrecord\u001b[0m\u001b[0;34m.\u001b[0m\u001b[0mrecord_name\u001b[0m\u001b[0;34m,\u001b[0m \u001b[0;34m'Recording Scenario'\u001b[0m\u001b[0;34m]\u001b[0m\u001b[0;34m.\u001b[0m\u001b[0mvalues\u001b[0m\u001b[0;34m[\u001b[0m\u001b[0;36m0\u001b[0m\u001b[0;34m]\u001b[0m\u001b[0;34m\u001b[0m\u001b[0;34m\u001b[0m\u001b[0m\n\u001b[1;32m     11\u001b[0m       \u001b[0;31m# print(record.record_name, recording_scenario)\u001b[0m\u001b[0;34m\u001b[0m\u001b[0;34m\u001b[0m\u001b[0m\n",
            "\u001b[0;32m/usr/local/lib/python3.11/dist-packages/wfdb/io/record.py\u001b[0m in \u001b[0;36mrdrecord\u001b[0;34m(record_name, sampfrom, sampto, channels, physical, pn_dir, m2s, smooth_frames, ignore_skew, return_res, force_channels, channel_names, warn_empty)\u001b[0m\n\u001b[1;32m   2163\u001b[0m             \u001b[0;32mif\u001b[0m \u001b[0mphysical\u001b[0m\u001b[0;34m:\u001b[0m\u001b[0;34m\u001b[0m\u001b[0;34m\u001b[0m\u001b[0m\n\u001b[1;32m   2164\u001b[0m                 \u001b[0;31m# Perform inplace dac to get physical signal\u001b[0m\u001b[0;34m\u001b[0m\u001b[0;34m\u001b[0m\u001b[0m\n\u001b[0;32m-> 2165\u001b[0;31m                 \u001b[0mrecord\u001b[0m\u001b[0;34m.\u001b[0m\u001b[0mdac\u001b[0m\u001b[0;34m(\u001b[0m\u001b[0mexpanded\u001b[0m\u001b[0;34m=\u001b[0m\u001b[0;32mFalse\u001b[0m\u001b[0;34m,\u001b[0m \u001b[0mreturn_res\u001b[0m\u001b[0;34m=\u001b[0m\u001b[0mreturn_res\u001b[0m\u001b[0;34m,\u001b[0m \u001b[0minplace\u001b[0m\u001b[0;34m=\u001b[0m\u001b[0;32mTrue\u001b[0m\u001b[0;34m)\u001b[0m\u001b[0;34m\u001b[0m\u001b[0;34m\u001b[0m\u001b[0m\n\u001b[0m\u001b[1;32m   2166\u001b[0m \u001b[0;34m\u001b[0m\u001b[0m\n\u001b[1;32m   2167\u001b[0m         \u001b[0;31m# Return each sample of the signals with multiple samples per frame\u001b[0m\u001b[0;34m\u001b[0m\u001b[0;34m\u001b[0m\u001b[0m\n",
            "\u001b[0;32m/usr/local/lib/python3.11/dist-packages/wfdb/io/_signal.py\u001b[0m in \u001b[0;36mdac\u001b[0;34m(self, expanded, return_res, inplace)\u001b[0m\n\u001b[1;32m    672\u001b[0m                 \u001b[0;31m# Do float conversion immediately to avoid potential under/overflow\u001b[0m\u001b[0;34m\u001b[0m\u001b[0;34m\u001b[0m\u001b[0m\n\u001b[1;32m    673\u001b[0m                 \u001b[0;31m# of efficient int dtype\u001b[0m\u001b[0;34m\u001b[0m\u001b[0;34m\u001b[0m\u001b[0m\n\u001b[0;32m--> 674\u001b[0;31m                 \u001b[0mself\u001b[0m\u001b[0;34m.\u001b[0m\u001b[0md_signal\u001b[0m \u001b[0;34m=\u001b[0m \u001b[0mself\u001b[0m\u001b[0;34m.\u001b[0m\u001b[0md_signal\u001b[0m\u001b[0;34m.\u001b[0m\u001b[0mastype\u001b[0m\u001b[0;34m(\u001b[0m\u001b[0mfloatdtype\u001b[0m\u001b[0;34m,\u001b[0m \u001b[0mcopy\u001b[0m\u001b[0;34m=\u001b[0m\u001b[0;32mFalse\u001b[0m\u001b[0;34m)\u001b[0m\u001b[0;34m\u001b[0m\u001b[0;34m\u001b[0m\u001b[0m\n\u001b[0m\u001b[1;32m    675\u001b[0m                 \u001b[0mnp\u001b[0m\u001b[0;34m.\u001b[0m\u001b[0msubtract\u001b[0m\u001b[0;34m(\u001b[0m\u001b[0mself\u001b[0m\u001b[0;34m.\u001b[0m\u001b[0md_signal\u001b[0m\u001b[0;34m,\u001b[0m \u001b[0mself\u001b[0m\u001b[0;34m.\u001b[0m\u001b[0mbaseline\u001b[0m\u001b[0;34m,\u001b[0m \u001b[0mself\u001b[0m\u001b[0;34m.\u001b[0m\u001b[0md_signal\u001b[0m\u001b[0;34m)\u001b[0m\u001b[0;34m\u001b[0m\u001b[0;34m\u001b[0m\u001b[0m\n\u001b[1;32m    676\u001b[0m                 \u001b[0mnp\u001b[0m\u001b[0;34m.\u001b[0m\u001b[0mdivide\u001b[0m\u001b[0;34m(\u001b[0m\u001b[0mself\u001b[0m\u001b[0;34m.\u001b[0m\u001b[0md_signal\u001b[0m\u001b[0;34m,\u001b[0m \u001b[0mself\u001b[0m\u001b[0;34m.\u001b[0m\u001b[0madc_gain\u001b[0m\u001b[0;34m,\u001b[0m \u001b[0mself\u001b[0m\u001b[0;34m.\u001b[0m\u001b[0md_signal\u001b[0m\u001b[0;34m)\u001b[0m\u001b[0;34m\u001b[0m\u001b[0;34m\u001b[0m\u001b[0m\n",
            "\u001b[0;31mKeyboardInterrupt\u001b[0m: "
          ]
        }
      ]
    },
    {
      "cell_type": "code",
      "source": [
        "def verify_split_records_duration():\n",
        "  for filename in os.listdir(final_dataset_path):\n",
        "    file_path = os.path.join(final_dataset_path, filename)\n",
        "    if filename.endswith(\".hea\"):\n",
        "      try:\n",
        "        record = wfdb.rdrecord(f\"{final_dataset_path}/{filename.split('.')[0]}\")\n",
        "        print_record_info(record)\n",
        "        print()\n",
        "        break  # only verify one record\n",
        "      except Exception as e:\n",
        "        print(e)\n",
        "\n",
        "verify_split_records_duration()\n",
        "\n",
        "verify_record = wfdb.rdrecord(f\"{records_path}/ECGPCG0019\")\n",
        "print_record_info(verify_record)"
      ],
      "metadata": {
        "collapsed": true,
        "colab": {
          "base_uri": "https://localhost:8080/"
        },
        "id": "yLhNzRWN3Mgd",
        "outputId": "96123a5c-3470-4c95-e98f-801b4955c887"
      },
      "execution_count": 116,
      "outputs": [
        {
          "output_type": "stream",
          "name": "stdout",
          "text": [
            "Record Name <class 'str'>: ECGPCG0019_1\n",
            "Number of Signals <class 'int'>: 5\n",
            "Sampling Frequency (Hz) <class 'int'>: 8000\n",
            "Signal Names <class 'list'>: ['ECG', 'PCG', 'PCG2', 'AUX1', 'AUX2']\n",
            "Signal Units <class 'list'>: ['mV', 'mV', 'mV', 'mV', 'mV']\n",
            "Comments <class 'list'>: []\n",
            "Signal Length <class 'int'>: 3360000\n",
            "Elapsed Time <class 'method'>: 0:07:00\n",
            "Signal <class 'numpy.ndarray'>, (3360000, 5): [[ 0.00829901  0.99950521 -0.01317431  0.04296628  0.0205076 ]\n",
            " [ 0.00829901  0.00390675 -0.01465125  0.04199802  0.01904319]\n",
            " [ 0.00829901 -0.00438926 -0.01709313  0.03809475  0.01562477]\n",
            " ...\n",
            " [-0.00390542  0.00438926 -0.15917484 -0.77439147  0.01953132]\n",
            " [-0.00292906  0.00488733 -0.16063209 -0.77439147  0.0205076 ]\n",
            " [-0.00292906  0.00488733 -0.16112441 -0.77538999  0.0205076 ]]\n",
            "\n",
            "Record Name <class 'str'>: ECGPCG0019\n",
            "Number of Signals <class 'int'>: 5\n",
            "Sampling Frequency (Hz) <class 'int'>: 8000\n",
            "Signal Names <class 'list'>: ['ECG', 'PCG', 'PCG2', 'AUX1', 'AUX2']\n",
            "Signal Units <class 'list'>: ['mV', 'mV', 'mV', 'mV', 'mV']\n",
            "Comments <class 'list'>: ['The simultaneous electrocardiogram and phonocardiogram database']\n",
            "Signal Length <class 'int'>: 14400000\n",
            "Elapsed Time <class 'method'>: 0:30:00\n",
            "Signal <class 'numpy.ndarray'>, (14400000, 5): [[ 0.00829901  0.99950521 -0.01318078  0.04297023  0.02050766]\n",
            " [ 0.00829901  0.00390675 -0.01465818  0.04199983  0.01904313]\n",
            " [ 0.00829901 -0.00438926 -0.01709156  0.03808793  0.01562495]\n",
            " ...\n",
            " [ 0.00195271  0.00879408  0.04394558 -0.26221845  0.03466807]\n",
            " [ 0.00146453  0.0078135   0.04493052 -0.26221845  0.03515625]\n",
            " [ 0.00195271  0.0078135   0.04394558 -0.26270364  0.03515625]]\n"
          ]
        }
      ]
    },
    {
      "cell_type": "markdown",
      "source": [
        "# TEST"
      ],
      "metadata": {
        "id": "ahvLv0HyOCX0"
      }
    },
    {
      "cell_type": "markdown",
      "source": [
        "## Testing"
      ],
      "metadata": {
        "id": "0n8KdIRQEbvw"
      }
    },
    {
      "cell_type": "code",
      "source": [
        "#@title testing divided records\n",
        "\n",
        "# Load the record\n",
        "record = wfdb.rdrecord('/content/drive/MyDrive/ML Project Dataset/Divided Dataset/ECGPCG0019_1')\n",
        "\n",
        "# Sampling frequency\n",
        "fs = record.fs  # Samples per second\n",
        "\n",
        "# Segment durations in minutes\n",
        "durations = [7, 8, 4, 6, 5]  # Original durations in minutes\n",
        "samples_per_segment = [int(duration * 60 * fs) for duration in durations]\n",
        "\n",
        "# Split and print durations\n",
        "start = 0\n",
        "for i, segment_samples in enumerate(samples_per_segment):\n",
        "    end = start + segment_samples\n",
        "    actual_duration = (end - start) / fs / 60  # Convert samples back to minutes\n",
        "    print(f\"Segment {i+1}: Expected Duration = {durations[i]} min, Actual Duration = {actual_duration:.2f} min\")\n",
        "    start = end  # Update start for the next segment\n"
      ],
      "metadata": {
        "colab": {
          "base_uri": "https://localhost:8080/"
        },
        "cellView": "form",
        "id": "8FD0YL-ndWV9",
        "outputId": "921d8613-7ba0-40fa-d7ed-a9c62ae8452f"
      },
      "execution_count": null,
      "outputs": [
        {
          "output_type": "stream",
          "name": "stdout",
          "text": [
            "Segment 1: Expected Duration = 7 min, Actual Duration = 7.00 min\n",
            "Segment 2: Expected Duration = 8 min, Actual Duration = 8.00 min\n",
            "Segment 3: Expected Duration = 4 min, Actual Duration = 4.00 min\n",
            "Segment 4: Expected Duration = 6 min, Actual Duration = 6.00 min\n",
            "Segment 5: Expected Duration = 5 min, Actual Duration = 5.00 min\n"
          ]
        }
      ]
    },
    {
      "cell_type": "code",
      "source": [
        "#@title testing divided record\n",
        "record = wfdb.rdrecord('/content/drive/MyDrive/ML Project Dataset/Divided Dataset/record_segment_1')\n",
        "\n",
        "fs = record.fs  # Sampling frequency\n",
        "duration = 420\n",
        "num_samples = int(duration * fs)\n",
        "\n",
        "ecg_signal = record.p_signal[:num_samples, 0]\n",
        "pcg_signal = record.p_signal[:num_samples, 1]\n",
        "time = np.linspace(0, duration, num_samples)\n",
        "\n",
        "fig, ax = plt.subplots(2, 1, figsize=(10, 6), sharex=True)\n",
        "\n",
        "# Plot ECG\n",
        "ax[0].plot(time, ecg_signal, color='b')\n",
        "ax[0].set_title(\"ECG Signal (First 5 Seconds)\")\n",
        "ax[0].set_ylabel(\"ECG (mV)\")\n",
        "ax[0].grid()\n",
        "\n",
        "# Plot PCG\n",
        "ax[1].plot(time, pcg_signal, color='r')\n",
        "ax[1].set_title(\"PCG Signal (First 5 Seconds)\")\n",
        "ax[1].set_xlabel(\"Time (seconds)\")\n",
        "ax[1].set_ylabel(\"PCG (mV)\")\n",
        "ax[1].grid()\n",
        "\n",
        "plt.tight_layout()\n",
        "plt.show()\n"
      ],
      "metadata": {
        "colab": {
          "base_uri": "https://localhost:8080/",
          "height": 525
        },
        "cellView": "form",
        "collapsed": true,
        "id": "_97gGHsqbY0s",
        "outputId": "800a36ec-7450-4d73-a6fd-2c244dccfa12"
      },
      "execution_count": null,
      "outputs": [
        {
          "output_type": "display_data",
          "data": {
            "text/plain": [
              "<Figure size 1000x600 with 2 Axes>"
            ],
            "image/png": "[encoded data removed]"
          },
          "metadata": {}
        }
      ]
    },
    {
      "cell_type": "markdown",
      "source": [
        "## OLD"
      ],
      "metadata": {
        "id": "cJnK4_ijZeO_"
      }
    },
    {
      "cell_type": "code",
      "source": [
        "file_path = f'{records_path}/ECGPCG0001'\n",
        "record = wfdb.rdheader(file_path)\n",
        "# There's also wfdb.rdsamp() but idk how to make it work"
      ],
      "metadata": {
        "id": "gaoxCmjNt_Z5"
      },
      "execution_count": 42,
      "outputs": []
    },
    {
      "cell_type": "code",
      "execution_count": 40,
      "metadata": {
        "colab": {
          "base_uri": "https://localhost:8080/"
        },
        "id": "Zo6zG7tjcz8W",
        "outputId": "b49a15df-1f6f-4cf3-cd25-68be14b3fda5"
      },
      "outputs": [
        {
          "output_type": "stream",
          "name": "stdout",
          "text": [
            "Record Name: ECGPCG0001\n",
            "Number of Signals: 2\n",
            "Sampling Frequency (Hz): 8000\n",
            "Signal Names: ['ECG', 'PCG']\n",
            "Signal Units: ['mV', 'mV']\n",
            "Comments: ['The simultaneous electrocardiogram and phonocardiogram database']\n",
            "? None\n",
            "['__class__', '__delattr__', '__dict__', '__dir__', '__doc__', '__eq__', '__format__', '__ge__', '__getattribute__', '__getstate__', '__gt__', '__hash__', '__init__', '__init_subclass__', '__le__', '__lt__', '__module__', '__ne__', '__new__', '__reduce__', '__reduce_ex__', '__repr__', '__setattr__', '__sizeof__', '__str__', '__subclasshook__', '__weakref__', '_adjust_datetime', '_arrange_fields', '_auto_signal_file_names', 'adc', 'adc_gain', 'adc_res', 'adc_zero', 'base_counter', 'base_date', 'base_datetime', 'base_time', 'baseline', 'block_size', 'byte_offset', 'calc_adc_gain_baseline', 'calc_adc_params', 'calc_checksum', 'check_field', 'check_field_cohesion', 'check_read_inputs', 'check_sig_cohesion', 'checksum', 'comments', 'convert_dtype', 'counter_freq', 'd_signal', 'dac', 'e_d_signal', 'e_p_signal', 'file_name', 'fmt', 'fs', 'get_absolute_time', 'get_elapsed_time', 'get_frame_number', 'get_write_fields', 'get_write_subset', 'init_value', 'n_sig', 'p_signal', 'record_name', 'samps_per_frame', 'set_d_features', 'set_default', 'set_defaults', 'set_p_features', 'sig_len', 'sig_name', 'skew', 'smooth_frames', 'to_dataframe', 'units', 'wr_dat_files', 'wr_dats', 'wr_header_file', 'wrheader', 'wrsamp']\n"
          ]
        }
      ],
      "source": [
        "print(\"Record Name:\", record.record_name)\n",
        "print(\"Number of Signals:\", record.n_sig)\n",
        "print(\"Sampling Frequency (Hz):\", record.fs)\n",
        "print(\"Signal Names:\", record.sig_name)\n",
        "print(\"Signal Units:\", record.units)\n",
        "print(\"Comments:\", record.comments)\n",
        "print(\"?\", record.p_signal)\n",
        "\n",
        "print(dir(record))\n",
        "# Comments don't include the label (walking, sitting, etc.) IT'S IN THE CSV 'ECGPCGSpreadsheet.csv'"
      ]
    },
    {
      "cell_type": "code",
      "source": [
        "record = wfdb.rdrecord(file_path)\n",
        "wfdb.plot_wfdb(record=record, title='ECGPCG0001 Record')\n",
        "\n",
        "# Record is 30 mins so it's difficult to visualize in one static plot\n"
      ],
      "metadata": {
        "colab": {
          "base_uri": "https://localhost:8080/",
          "height": 472
        },
        "id": "VaT_u0VOg96g",
        "outputId": "634f36c0-43a2-4dc5-c889-5c08f4066b56"
      },
      "execution_count": null,
      "outputs": [
        {
          "output_type": "display_data",
          "data": {
            "text/plain": [
              "<Figure size 640x480 with 2 Axes>"
            ],
            "image/png": "[encoded data removed]"
          },
          "metadata": {}
        }
      ]
    },
    {
      "cell_type": "code",
      "source": [
        "record = wfdb.rdrecord(file_path)\n",
        "\n",
        "fs = record.fs  # Sampling frequency\n",
        "duration = 5\n",
        "num_samples = int(duration * fs)\n",
        "\n",
        "ecg_signal = record.p_signal[:num_samples, 0]\n",
        "pcg_signal = record.p_signal[:num_samples, 1]\n",
        "time = np.linspace(0, duration, num_samples)\n",
        "\n",
        "fig, ax = plt.subplots(2, 1, figsize=(10, 6), sharex=True)\n",
        "\n",
        "# Plot ECG\n",
        "ax[0].plot(time, ecg_signal, color='b')\n",
        "ax[0].set_title(\"ECG Signal (First 5 Seconds)\")\n",
        "ax[0].set_ylabel(\"ECG (mV)\")\n",
        "ax[0].grid()\n",
        "\n",
        "# Plot PCG\n",
        "ax[1].plot(time, pcg_signal, color='r')\n",
        "ax[1].set_title(\"PCG Signal (First 5 Seconds)\")\n",
        "ax[1].set_xlabel(\"Time (seconds)\")\n",
        "ax[1].set_ylabel(\"PCG (mV)\")\n",
        "ax[1].grid()\n",
        "\n",
        "plt.tight_layout()\n",
        "plt.show()\n"
      ],
      "metadata": {
        "colab": {
          "base_uri": "https://localhost:8080/",
          "height": 521
        },
        "id": "YlCzuEkAhbDI",
        "outputId": "ed0bc7b4-f918-4b47-cfe6-76d32ad31f82"
      },
      "execution_count": null,
      "outputs": [
        {
          "output_type": "display_data",
          "data": {
            "text/plain": [
              "<Figure size 1000x600 with 2 Axes>"
            ],
            "image/png": "[encoded data removed]"
          },
          "metadata": {}
        }
      ]
    },
    {
      "cell_type": "code",
      "source": [
        "#@title EXAMPLE FEATURE EXTRACTION\n",
        "record = wfdb.rdrecord('Dataset/ECGPCG0001')\n",
        "fs = record.fs\n",
        "duration = 10\n",
        "num_samples = int(duration * fs)\n",
        "\n",
        "pcg_signal = record.p_signal[:num_samples, 1]  # Extract PCG\n",
        "time = np.linspace(0, duration, num_samples)\n",
        "\n",
        "def detect_s1_s2_intervals(signal, fs):\n",
        "    \"\"\"Detect peaks (heart sounds) and compute variability.\"\"\"\n",
        "    peaks, _ = find_peaks(signal, height=np.mean(signal))\n",
        "    intervals = np.diff(peaks) / fs  # Convert to time\n",
        "    return {\n",
        "        \"S1-S2 Variability\": np.std(intervals),\n",
        "        \"Heart Rate\": 60 / np.mean(intervals) if len(intervals) > 0 else np.nan\n",
        "    }\n",
        "\n",
        "def s1_s2_energy_ratio(signal):\n",
        "    \"\"\"Compute S1/S2 energy ratio using basic power analysis.\"\"\"\n",
        "    s1_energy = np.sum(signal[:len(signal)//2]**2)\n",
        "    s2_energy = np.sum(signal[len(signal)//2:]**2)\n",
        "    return {\"S1/S2 Energy Ratio\": s1_energy / (s2_energy + 1e-10)}\n",
        "\n",
        "def spectral_entropy(signal, fs):\n",
        "    \"\"\"Compute Spectral Entropy from FFT.\"\"\"\n",
        "    f, Pxx = welch(signal, fs=fs, nperseg=min(1024, len(signal)))\n",
        "    Pxx_norm = Pxx / np.sum(Pxx)  # Normalize power\n",
        "    entropy = -np.sum(Pxx_norm * np.log(Pxx_norm + 1e-10))  # Shannon Entropy\n",
        "    return {\"Spectral Entropy\": entropy}\n",
        "\n",
        "def low_frequency_power(signal, fs, low_freq=0, high_freq=50):\n",
        "    \"\"\"Compute power in low-frequency band (0-50 Hz).\"\"\"\n",
        "    f, Pxx = welch(signal, fs=fs, nperseg=min(1024, len(signal)))\n",
        "    low_power = np.sum(Pxx[(f >= low_freq) & (f <= high_freq)])\n",
        "    return {\"Power in Low-Frequency Band\": low_power}\n",
        "\n",
        "s1_s2_features = detect_s1_s2_intervals(pcg_signal, fs)\n",
        "energy_ratio = s1_s2_energy_ratio(pcg_signal)\n",
        "entropy_feat = spectral_entropy(pcg_signal, fs)\n",
        "low_freq_power = low_frequency_power(pcg_signal, fs)\n",
        "\n",
        "all_features = {**s1_s2_features, **energy_ratio, **entropy_feat, **low_freq_power}\n",
        "\n",
        "print(\"Extracted Features from PCG Signal (First 10s):\")\n",
        "for key, value in all_features.items():\n",
        "    print(f\"{key}: {value:.4f}\")\n"
      ],
      "metadata": {
        "id": "lWeZLs9uHBlz",
        "cellView": "form"
      },
      "execution_count": null,
      "outputs": []
    }
  ]
}