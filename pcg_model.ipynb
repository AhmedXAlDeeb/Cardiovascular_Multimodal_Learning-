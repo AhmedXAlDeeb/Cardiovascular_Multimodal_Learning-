{
  "cells": [
    {
      "cell_type": "code",
      "execution_count": null,
      "metadata": {
        "colab": {
          "base_uri": "https://localhost:8080/"
        },
        "id": "nUnlFrQCFP26",
        "outputId": "cc777f70-328a-49ec-d2ff-ecadb9fd639e"
      },
      "outputs": [
        {
          "name": "stdout",
          "output_type": "stream",
          "text": [
            "Mounted at /content/drive\n"
          ]
        }
      ],
      "source": [
        "from google.colab import drive\n",
        "drive.mount('/content/drive')"
      ]
    },
    {
      "cell_type": "markdown",
      "metadata": {
        "id": "iqL79GaSZKSw"
      },
      "source": [
        "# PCG Model"
      ]
    },
    {
      "cell_type": "code",
      "execution_count": null,
      "metadata": {
        "id": "eEQXCufBZXHn"
      },
      "outputs": [],
      "source": [
        "import pandas as pd\n",
        "from sklearn.ensemble import RandomForestClassifier\n",
        "from sklearn.svm import SVC\n",
        "from sklearn.neighbors import KNeighborsClassifier\n",
        "from sklearn.model_selection import GridSearchCV\n",
        "from mlxtend.feature_selection import SequentialFeatureSelector as SFS\n",
        "from sklearn.metrics import classification_report, confusion_matrix, accuracy_score\n",
        "from sklearn.preprocessing import LabelEncoder\n",
        "import seaborn as sns\n",
        "import matplotlib.pyplot as plt\n",
        "from sklearn.metrics import confusion_matrix\n",
        "import numpy as np\n",
        "from sklearn.model_selection import train_test_split"
      ]
    },
    {
      "cell_type": "code",
      "execution_count": null,
      "metadata": {
        "id": "yUwrT-G-Zt4_"
      },
      "outputs": [],
      "source": [
        "X_train = pd.read_csv('/content/drive/MyDrive/ML Project (PCG)/Train_pcg_X.csv')\n",
        "y_train = pd.read_csv('/content/drive/MyDrive/ML Project (PCG)/Train_pcg_y.csv')\n",
        "X_test = pd.read_csv('/content/drive/MyDrive/ML Project (PCG)/Test_pcg_X.csv')\n",
        "y_test = pd.read_csv('/content/drive/MyDrive/ML Project (PCG)/Test_pcg_y.csv')\n",
        "\n",
        "X_combined = pd.concat([X_train, X_test], axis=0)\n",
        "y_combined = pd.concat([y_train, y_test], axis=0)\n",
        "\n",
        "# Reset index\n",
        "X_combined.reset_index(drop=True, inplace=True)\n",
        "y_combined.reset_index(drop=True, inplace=True)"
      ]
    },
    {
      "cell_type": "code",
      "source": [
        "X_combined.head()"
      ],
      "metadata": {
        "colab": {
          "base_uri": "https://localhost:8080/",
          "height": 255
        },
        "id": "34lRhn5RghEs",
        "outputId": "79bd6e31-293a-43a3-da4d-7f8a757188d4"
      },
      "execution_count": null,
      "outputs": [
        {
          "output_type": "execute_result",
          "data": {
            "text/plain": [
              "       MEAN       STD    ENERGY     POWER  AE_MEDIAN    RM_MIN  ZCR_GLOBAL  \\\n",
              "0  0.430983  0.596186  0.382384  0.382384   0.467531  0.353035    0.793099   \n",
              "1  0.156740  0.428703  0.206853  0.206853   0.357176  0.404880    0.525813   \n",
              "2  0.519970  0.841029  0.723337  0.723337   0.666721  0.438871    0.197395   \n",
              "3  0.161902  0.574294  0.356781  0.356781   0.523935  0.639725    0.272078   \n",
              "4  0.475599  0.285268  0.093754  0.093754   0.241327  0.178963    0.534147   \n",
              "\n",
              "    ZCR_MAX  PEAK_AMP  PEAK_FREQ  ...  DELTA1_STD  DELTA2_MEAN  DELTA2_MEDIAN  \\\n",
              "0  0.742194  0.365551   0.304578  ...    0.456553     0.550458       0.417596   \n",
              "1  0.680350  0.201159   0.876830  ...    0.141529     0.592429       0.710600   \n",
              "2  0.463302  0.881168   0.017284  ...    0.266773     0.951635       0.447793   \n",
              "3  0.445465  0.658242   0.104329  ...    0.204326     0.661746       0.751349   \n",
              "4  0.599508  0.034359   0.444254  ...    0.196865     0.483854       0.288845   \n",
              "\n",
              "    CA_MEAN  CA_MEDIAN    CD_MIN   CD_MEAN  CD_MEDIAN    CD_STD  ZCR_MIN  \n",
              "0  0.430924   0.399806  0.539056  0.052427   0.247277  0.301989      NaN  \n",
              "1  0.156739   0.396336  0.962503  0.607633   0.908707  0.076848      NaN  \n",
              "2  0.519897   0.240157  0.677959  0.091123   0.414842  0.169974      NaN  \n",
              "3  0.161890   0.496905  0.000000  0.000000   0.933619  0.231633      NaN  \n",
              "4  0.475592   0.392074  0.658072  0.719466   0.500538  0.026418      NaN  \n",
              "\n",
              "[5 rows x 29 columns]"
            ],
            "text/html": [
              "\n",
              "  <div id=\"df-349dab7f-3cea-4e0d-afd6-73bd830a6a0d\" class=\"colab-df-container\">\n",
              "    <div>\n",
              "<style scoped>\n",
              "    .dataframe tbody tr th:only-of-type {\n",
              "        vertical-align: middle;\n",
              "    }\n",
              "\n",
              "    .dataframe tbody tr th {\n",
              "        vertical-align: top;\n",
              "    }\n",
              "\n",
              "    .dataframe thead th {\n",
              "        text-align: right;\n",
              "    }\n",
              "</style>\n",
              "<table border=\"1\" class=\"dataframe\">\n",
              "  <thead>\n",
              "    <tr style=\"text-align: right;\">\n",
              "      <th></th>\n",
              "      <th>MEAN</th>\n",
              "      <th>STD</th>\n",
              "      <th>ENERGY</th>\n",
              "      <th>POWER</th>\n",
              "      <th>AE_MEDIAN</th>\n",
              "      <th>RM_MIN</th>\n",
              "      <th>ZCR_GLOBAL</th>\n",
              "      <th>ZCR_MAX</th>\n",
              "      <th>PEAK_AMP</th>\n",
              "      <th>PEAK_FREQ</th>\n",
              "      <th>...</th>\n",
              "      <th>DELTA1_STD</th>\n",
              "      <th>DELTA2_MEAN</th>\n",
              "      <th>DELTA2_MEDIAN</th>\n",
              "      <th>CA_MEAN</th>\n",
              "      <th>CA_MEDIAN</th>\n",
              "      <th>CD_MIN</th>\n",
              "      <th>CD_MEAN</th>\n",
              "      <th>CD_MEDIAN</th>\n",
              "      <th>CD_STD</th>\n",
              "      <th>ZCR_MIN</th>\n",
              "    </tr>\n",
              "  </thead>\n",
              "  <tbody>\n",
              "    <tr>\n",
              "      <th>0</th>\n",
              "      <td>0.430983</td>\n",
              "      <td>0.596186</td>\n",
              "      <td>0.382384</td>\n",
              "      <td>0.382384</td>\n",
              "      <td>0.467531</td>\n",
              "      <td>0.353035</td>\n",
              "      <td>0.793099</td>\n",
              "      <td>0.742194</td>\n",
              "      <td>0.365551</td>\n",
              "      <td>0.304578</td>\n",
              "      <td>...</td>\n",
              "      <td>0.456553</td>\n",
              "      <td>0.550458</td>\n",
              "      <td>0.417596</td>\n",
              "      <td>0.430924</td>\n",
              "      <td>0.399806</td>\n",
              "      <td>0.539056</td>\n",
              "      <td>0.052427</td>\n",
              "      <td>0.247277</td>\n",
              "      <td>0.301989</td>\n",
              "      <td>NaN</td>\n",
              "    </tr>\n",
              "    <tr>\n",
              "      <th>1</th>\n",
              "      <td>0.156740</td>\n",
              "      <td>0.428703</td>\n",
              "      <td>0.206853</td>\n",
              "      <td>0.206853</td>\n",
              "      <td>0.357176</td>\n",
              "      <td>0.404880</td>\n",
              "      <td>0.525813</td>\n",
              "      <td>0.680350</td>\n",
              "      <td>0.201159</td>\n",
              "      <td>0.876830</td>\n",
              "      <td>...</td>\n",
              "      <td>0.141529</td>\n",
              "      <td>0.592429</td>\n",
              "      <td>0.710600</td>\n",
              "      <td>0.156739</td>\n",
              "      <td>0.396336</td>\n",
              "      <td>0.962503</td>\n",
              "      <td>0.607633</td>\n",
              "      <td>0.908707</td>\n",
              "      <td>0.076848</td>\n",
              "      <td>NaN</td>\n",
              "    </tr>\n",
              "    <tr>\n",
              "      <th>2</th>\n",
              "      <td>0.519970</td>\n",
              "      <td>0.841029</td>\n",
              "      <td>0.723337</td>\n",
              "      <td>0.723337</td>\n",
              "      <td>0.666721</td>\n",
              "      <td>0.438871</td>\n",
              "      <td>0.197395</td>\n",
              "      <td>0.463302</td>\n",
              "      <td>0.881168</td>\n",
              "      <td>0.017284</td>\n",
              "      <td>...</td>\n",
              "      <td>0.266773</td>\n",
              "      <td>0.951635</td>\n",
              "      <td>0.447793</td>\n",
              "      <td>0.519897</td>\n",
              "      <td>0.240157</td>\n",
              "      <td>0.677959</td>\n",
              "      <td>0.091123</td>\n",
              "      <td>0.414842</td>\n",
              "      <td>0.169974</td>\n",
              "      <td>NaN</td>\n",
              "    </tr>\n",
              "    <tr>\n",
              "      <th>3</th>\n",
              "      <td>0.161902</td>\n",
              "      <td>0.574294</td>\n",
              "      <td>0.356781</td>\n",
              "      <td>0.356781</td>\n",
              "      <td>0.523935</td>\n",
              "      <td>0.639725</td>\n",
              "      <td>0.272078</td>\n",
              "      <td>0.445465</td>\n",
              "      <td>0.658242</td>\n",
              "      <td>0.104329</td>\n",
              "      <td>...</td>\n",
              "      <td>0.204326</td>\n",
              "      <td>0.661746</td>\n",
              "      <td>0.751349</td>\n",
              "      <td>0.161890</td>\n",
              "      <td>0.496905</td>\n",
              "      <td>0.000000</td>\n",
              "      <td>0.000000</td>\n",
              "      <td>0.933619</td>\n",
              "      <td>0.231633</td>\n",
              "      <td>NaN</td>\n",
              "    </tr>\n",
              "    <tr>\n",
              "      <th>4</th>\n",
              "      <td>0.475599</td>\n",
              "      <td>0.285268</td>\n",
              "      <td>0.093754</td>\n",
              "      <td>0.093754</td>\n",
              "      <td>0.241327</td>\n",
              "      <td>0.178963</td>\n",
              "      <td>0.534147</td>\n",
              "      <td>0.599508</td>\n",
              "      <td>0.034359</td>\n",
              "      <td>0.444254</td>\n",
              "      <td>...</td>\n",
              "      <td>0.196865</td>\n",
              "      <td>0.483854</td>\n",
              "      <td>0.288845</td>\n",
              "      <td>0.475592</td>\n",
              "      <td>0.392074</td>\n",
              "      <td>0.658072</td>\n",
              "      <td>0.719466</td>\n",
              "      <td>0.500538</td>\n",
              "      <td>0.026418</td>\n",
              "      <td>NaN</td>\n",
              "    </tr>\n",
              "  </tbody>\n",
              "</table>\n",
              "<p>5 rows × 29 columns</p>\n",
              "</div>\n",
              "    <div class=\"colab-df-buttons\">\n",
              "\n",
              "  <div class=\"colab-df-container\">\n",
              "    <button class=\"colab-df-convert\" onclick=\"convertToInteractive('df-349dab7f-3cea-4e0d-afd6-73bd830a6a0d')\"\n",
              "            title=\"Convert this dataframe to an interactive table.\"\n",
              "            style=\"display:none;\">\n",
              "\n",
              "  <svg xmlns=\"http://www.w3.org/2000/svg\" height=\"24px\" viewBox=\"0 -960 960 960\">\n",
              "    <path d=\"M120-120v-720h720v720H120Zm60-500h600v-160H180v160Zm220 220h160v-160H400v160Zm0 220h160v-160H400v160ZM180-400h160v-160H180v160Zm440 0h160v-160H620v160ZM180-180h160v-160H180v160Zm440 0h160v-160H620v160Z\"/>\n",
              "  </svg>\n",
              "    </button>\n",
              "\n",
              "  <style>\n",
              "    .colab-df-container {\n",
              "      display:flex;\n",
              "      gap: 12px;\n",
              "    }\n",
              "\n",
              "    .colab-df-convert {\n",
              "      background-color: #E8F0FE;\n",
              "      border: none;\n",
              "      border-radius: 50%;\n",
              "      cursor: pointer;\n",
              "      display: none;\n",
              "      fill: #1967D2;\n",
              "      height: 32px;\n",
              "      padding: 0 0 0 0;\n",
              "      width: 32px;\n",
              "    }\n",
              "\n",
              "    .colab-df-convert:hover {\n",
              "      background-color: #E2EBFA;\n",
              "      box-shadow: 0px 1px 2px rgba(60, 64, 67, 0.3), 0px 1px 3px 1px rgba(60, 64, 67, 0.15);\n",
              "      fill: #174EA6;\n",
              "    }\n",
              "\n",
              "    .colab-df-buttons div {\n",
              "      margin-bottom: 4px;\n",
              "    }\n",
              "\n",
              "    [theme=dark] .colab-df-convert {\n",
              "      background-color: #3B4455;\n",
              "      fill: #D2E3FC;\n",
              "    }\n",
              "\n",
              "    [theme=dark] .colab-df-convert:hover {\n",
              "      background-color: #434B5C;\n",
              "      box-shadow: 0px 1px 3px 1px rgba(0, 0, 0, 0.15);\n",
              "      filter: drop-shadow(0px 1px 2px rgba(0, 0, 0, 0.3));\n",
              "      fill: #FFFFFF;\n",
              "    }\n",
              "  </style>\n",
              "\n",
              "    <script>\n",
              "      const buttonEl =\n",
              "        document.querySelector('#df-349dab7f-3cea-4e0d-afd6-73bd830a6a0d button.colab-df-convert');\n",
              "      buttonEl.style.display =\n",
              "        google.colab.kernel.accessAllowed ? 'block' : 'none';\n",
              "\n",
              "      async function convertToInteractive(key) {\n",
              "        const element = document.querySelector('#df-349dab7f-3cea-4e0d-afd6-73bd830a6a0d');\n",
              "        const dataTable =\n",
              "          await google.colab.kernel.invokeFunction('convertToInteractive',\n",
              "                                                    [key], {});\n",
              "        if (!dataTable) return;\n",
              "\n",
              "        const docLinkHtml = 'Like what you see? Visit the ' +\n",
              "          '<a target=\"_blank\" href=https://colab.research.google.com/notebooks/data_table.ipynb>data table notebook</a>'\n",
              "          + ' to learn more about interactive tables.';\n",
              "        element.innerHTML = '';\n",
              "        dataTable['output_type'] = 'display_data';\n",
              "        await google.colab.output.renderOutput(dataTable, element);\n",
              "        const docLink = document.createElement('div');\n",
              "        docLink.innerHTML = docLinkHtml;\n",
              "        element.appendChild(docLink);\n",
              "      }\n",
              "    </script>\n",
              "  </div>\n",
              "\n",
              "\n",
              "    <div id=\"df-997f7fa4-54a2-49cf-be59-c94dd2fc0110\">\n",
              "      <button class=\"colab-df-quickchart\" onclick=\"quickchart('df-997f7fa4-54a2-49cf-be59-c94dd2fc0110')\"\n",
              "                title=\"Suggest charts\"\n",
              "                style=\"display:none;\">\n",
              "\n",
              "<svg xmlns=\"http://www.w3.org/2000/svg\" height=\"24px\"viewBox=\"0 0 24 24\"\n",
              "     width=\"24px\">\n",
              "    <g>\n",
              "        <path d=\"M19 3H5c-1.1 0-2 .9-2 2v14c0 1.1.9 2 2 2h14c1.1 0 2-.9 2-2V5c0-1.1-.9-2-2-2zM9 17H7v-7h2v7zm4 0h-2V7h2v10zm4 0h-2v-4h2v4z\"/>\n",
              "    </g>\n",
              "</svg>\n",
              "      </button>\n",
              "\n",
              "<style>\n",
              "  .colab-df-quickchart {\n",
              "      --bg-color: #E8F0FE;\n",
              "      --fill-color: #1967D2;\n",
              "      --hover-bg-color: #E2EBFA;\n",
              "      --hover-fill-color: #174EA6;\n",
              "      --disabled-fill-color: #AAA;\n",
              "      --disabled-bg-color: #DDD;\n",
              "  }\n",
              "\n",
              "  [theme=dark] .colab-df-quickchart {\n",
              "      --bg-color: #3B4455;\n",
              "      --fill-color: #D2E3FC;\n",
              "      --hover-bg-color: #434B5C;\n",
              "      --hover-fill-color: #FFFFFF;\n",
              "      --disabled-bg-color: #3B4455;\n",
              "      --disabled-fill-color: #666;\n",
              "  }\n",
              "\n",
              "  .colab-df-quickchart {\n",
              "    background-color: var(--bg-color);\n",
              "    border: none;\n",
              "    border-radius: 50%;\n",
              "    cursor: pointer;\n",
              "    display: none;\n",
              "    fill: var(--fill-color);\n",
              "    height: 32px;\n",
              "    padding: 0;\n",
              "    width: 32px;\n",
              "  }\n",
              "\n",
              "  .colab-df-quickchart:hover {\n",
              "    background-color: var(--hover-bg-color);\n",
              "    box-shadow: 0 1px 2px rgba(60, 64, 67, 0.3), 0 1px 3px 1px rgba(60, 64, 67, 0.15);\n",
              "    fill: var(--button-hover-fill-color);\n",
              "  }\n",
              "\n",
              "  .colab-df-quickchart-complete:disabled,\n",
              "  .colab-df-quickchart-complete:disabled:hover {\n",
              "    background-color: var(--disabled-bg-color);\n",
              "    fill: var(--disabled-fill-color);\n",
              "    box-shadow: none;\n",
              "  }\n",
              "\n",
              "  .colab-df-spinner {\n",
              "    border: 2px solid var(--fill-color);\n",
              "    border-color: transparent;\n",
              "    border-bottom-color: var(--fill-color);\n",
              "    animation:\n",
              "      spin 1s steps(1) infinite;\n",
              "  }\n",
              "\n",
              "  @keyframes spin {\n",
              "    0% {\n",
              "      border-color: transparent;\n",
              "      border-bottom-color: var(--fill-color);\n",
              "      border-left-color: var(--fill-color);\n",
              "    }\n",
              "    20% {\n",
              "      border-color: transparent;\n",
              "      border-left-color: var(--fill-color);\n",
              "      border-top-color: var(--fill-color);\n",
              "    }\n",
              "    30% {\n",
              "      border-color: transparent;\n",
              "      border-left-color: var(--fill-color);\n",
              "      border-top-color: var(--fill-color);\n",
              "      border-right-color: var(--fill-color);\n",
              "    }\n",
              "    40% {\n",
              "      border-color: transparent;\n",
              "      border-right-color: var(--fill-color);\n",
              "      border-top-color: var(--fill-color);\n",
              "    }\n",
              "    60% {\n",
              "      border-color: transparent;\n",
              "      border-right-color: var(--fill-color);\n",
              "    }\n",
              "    80% {\n",
              "      border-color: transparent;\n",
              "      border-right-color: var(--fill-color);\n",
              "      border-bottom-color: var(--fill-color);\n",
              "    }\n",
              "    90% {\n",
              "      border-color: transparent;\n",
              "      border-bottom-color: var(--fill-color);\n",
              "    }\n",
              "  }\n",
              "</style>\n",
              "\n",
              "      <script>\n",
              "        async function quickchart(key) {\n",
              "          const quickchartButtonEl =\n",
              "            document.querySelector('#' + key + ' button');\n",
              "          quickchartButtonEl.disabled = true;  // To prevent multiple clicks.\n",
              "          quickchartButtonEl.classList.add('colab-df-spinner');\n",
              "          try {\n",
              "            const charts = await google.colab.kernel.invokeFunction(\n",
              "                'suggestCharts', [key], {});\n",
              "          } catch (error) {\n",
              "            console.error('Error during call to suggestCharts:', error);\n",
              "          }\n",
              "          quickchartButtonEl.classList.remove('colab-df-spinner');\n",
              "          quickchartButtonEl.classList.add('colab-df-quickchart-complete');\n",
              "        }\n",
              "        (() => {\n",
              "          let quickchartButtonEl =\n",
              "            document.querySelector('#df-997f7fa4-54a2-49cf-be59-c94dd2fc0110 button');\n",
              "          quickchartButtonEl.style.display =\n",
              "            google.colab.kernel.accessAllowed ? 'block' : 'none';\n",
              "        })();\n",
              "      </script>\n",
              "    </div>\n",
              "\n",
              "    </div>\n",
              "  </div>\n"
            ],
            "application/vnd.google.colaboratory.intrinsic+json": {
              "type": "dataframe",
              "variable_name": "X_combined"
            }
          },
          "metadata": {},
          "execution_count": 16
        }
      ]
    },
    {
      "cell_type": "code",
      "source": [
        "X_combined.columns"
      ],
      "metadata": {
        "colab": {
          "base_uri": "https://localhost:8080/"
        },
        "id": "uXd2nMWCgi8g",
        "outputId": "dc484693-3f3e-4939-9da7-a38187b52977"
      },
      "execution_count": null,
      "outputs": [
        {
          "output_type": "execute_result",
          "data": {
            "text/plain": [
              "Index(['MEAN', 'STD', 'ENERGY', 'POWER', 'AE_MEDIAN', 'RM_MIN', 'ZCR_GLOBAL',\n",
              "       'ZCR_MAX', 'PEAK_AMP', 'PEAK_FREQ', 'BER_MIN', 'SB_MAX', 'SB_MEAN',\n",
              "       'SB_STD', 'MFCC_MAX', 'MFCC_MEDIAN', 'DELTA1_MIN', 'DELTA1_MEAN',\n",
              "       'DELTA1_MEDIAN', 'DELTA1_STD', 'DELTA2_MEAN', 'DELTA2_MEDIAN',\n",
              "       'CA_MEAN', 'CA_MEDIAN', 'CD_MIN', 'CD_MEAN', 'CD_MEDIAN', 'CD_STD',\n",
              "       'ZCR_MIN'],\n",
              "      dtype='object')"
            ]
          },
          "metadata": {},
          "execution_count": 17
        }
      ]
    },
    {
      "cell_type": "code",
      "execution_count": null,
      "metadata": {
        "colab": {
          "base_uri": "https://localhost:8080/"
        },
        "id": "34rmnNVPaAEA",
        "outputId": "9e1ea6db-3822-4d7f-b8a2-fb5b0e758931"
      },
      "outputs": [
        {
          "data": {
            "text/plain": [
              "('MEAN', 'STD', 'AE_MEDIAN', 'PEAK_FREQ', 'SB_MEAN', 'MFCC_MEDIAN', 'CD_MEAN')"
            ]
          },
          "execution_count": 4,
          "metadata": {},
          "output_type": "execute_result"
        }
      ],
      "source": [
        "# Sequential Forward Selection\n",
        "sfs = SFS(RandomForestClassifier(n_estimators=100, random_state=42),\n",
        "          k_features=7)\n",
        "sfs = sfs.fit(X_combined, y_combined.values.ravel())\n",
        "sfs.k_feature_names_"
      ]
    },
    {
      "cell_type": "code",
      "execution_count": null,
      "metadata": {
        "colab": {
          "background_save": true
        },
        "id": "3_TWBNxwbIjn",
        "outputId": "3dea737e-bd74-496a-c2fc-2224ada3ee6f"
      },
      "outputs": [
        {
          "data": {
            "text/plain": [
              "('ENERGY',\n",
              " 'PEAK_AMP',\n",
              " 'PEAK_FREQ',\n",
              " 'DELTA1_MEDIAN',\n",
              " 'DELTA2_MEAN',\n",
              " 'CA_MEAN',\n",
              " 'CD_MEAN')"
            ]
          },
          "execution_count": 5,
          "metadata": {},
          "output_type": "execute_result"
        }
      ],
      "source": [
        "# Sequential Backward Selection\n",
        "SBS = SFS(RandomForestClassifier(n_estimators=100, random_state=42),\n",
        "          k_features=7, forward = False)\n",
        "SBS = SBS.fit(X_combined, y_combined.values.ravel())\n",
        "SBS.k_feature_names_"
      ]
    },
    {
      "cell_type": "code",
      "execution_count": null,
      "metadata": {
        "colab": {
          "base_uri": "https://localhost:8080/"
        },
        "id": "3jsHb4rHZzwN",
        "outputId": "62a0f66a-e3b3-4e1b-d004-ef20cd52af70"
      },
      "outputs": [
        {
          "output_type": "stream",
          "name": "stderr",
          "text": [
            "/usr/local/lib/python3.11/dist-packages/sklearn/preprocessing/_label.py:110: DataConversionWarning: A column-vector y was passed when a 1d array was expected. Please change the shape of y to (n_samples, ), for example using ravel().\n",
            "  y = column_or_1d(y, warn=True)\n"
          ]
        }
      ],
      "source": [
        "# Use only selected features\n",
        "selected_features =  ['MEAN', 'RM_MIN', 'ZCR_GLOBAL', 'PEAK_AMP', 'SB_MEAN', 'CA_MEAN', 'CD_MEDIAN']\n",
        "X_combined = X_combined[selected_features]\n",
        "\n",
        "# Encode labels to integers\n",
        "le = LabelEncoder()\n",
        "y_encoded = le.fit_transform(y_combined)  # REST, Medium, HIGH -> 0,1,2"
      ]
    },
    {
      "cell_type": "code",
      "execution_count": null,
      "metadata": {
        "id": "NgHWnekYctzE"
      },
      "outputs": [],
      "source": [
        "# Define models\n",
        "models = {\n",
        "    'RandomForest': RandomForestClassifier(),\n",
        "    'SVM': SVC(),\n",
        "    'KNN': KNeighborsClassifier()\n",
        "}\n",
        "\n",
        "# Define hyperparameter grids\n",
        "param_grids = {\n",
        "    'RandomForest': {'n_estimators': [50, 100, 200], 'max_depth': [10, 20, None]},\n",
        "    'SVM': {'C': [0.1, 1, 10], 'kernel': ['linear', 'rbf']},\n",
        "    'KNN': {'n_neighbors': [3, 5, 7]}\n",
        "}\n",
        "\n",
        "# Loop through models and perform Grid Search\n",
        "best_params = {}\n",
        "for model_name, model in models.items():\n",
        "    grid_search = GridSearchCV(model, param_grids[model_name], cv=5, scoring='accuracy')\n",
        "    grid_search.fit(X_combined, y_combined.values.ravel())\n",
        "    best_params[model_name] = grid_search.best_params_\n",
        "\n",
        "print(best_params)\n"
      ]
    },
    {
      "cell_type": "code",
      "execution_count": null,
      "metadata": {
        "id": "z4hhLoWIXpOF"
      },
      "outputs": [],
      "source": [
        "# Split Data\n",
        "X_train, X_test, y_train, y_test = train_test_split(X_combined, y_encoded, test_size=0.3, random_state=42, stratify=y_encoded)"
      ]
    },
    {
      "cell_type": "code",
      "execution_count": null,
      "metadata": {
        "colab": {
          "base_uri": "https://localhost:8080/"
        },
        "id": "Ekxyb9hBdzp-",
        "outputId": "5f19f01b-82c8-42f5-c4ef-9fdbe9a42078"
      },
      "outputs": [
        {
          "output_type": "stream",
          "name": "stdout",
          "text": [
            "Random Forest Accuracy: 0.80\n"
          ]
        }
      ],
      "source": [
        "# Random Forest\n",
        "rf_clf = RandomForestClassifier(max_depth=20, n_estimators=50, random_state=42)\n",
        "rf_clf.fit(X_train, y_train)\n",
        "rf_preds = rf_clf.predict(X_test)\n",
        "rf_acc = accuracy_score(y_test, rf_preds)\n",
        "print(f'Random Forest Accuracy: {rf_acc:.2f}')"
      ]
    },
    {
      "cell_type": "code",
      "execution_count": null,
      "metadata": {
        "colab": {
          "base_uri": "https://localhost:8080/"
        },
        "id": "eQaPgEEIeAfB",
        "outputId": "da4e539d-83c6-4b6b-8ef7-437400c0326b"
      },
      "outputs": [
        {
          "output_type": "stream",
          "name": "stdout",
          "text": [
            "SVM Accuracy: 0.50\n"
          ]
        }
      ],
      "source": [
        "# SVM\n",
        "svm_clf = SVC(C=1, kernel='linear', random_state=4)\n",
        "svm_clf.fit(X_train, y_train)\n",
        "svm_preds = svm_clf.predict(X_test)\n",
        "svm_acc = accuracy_score(y_test, svm_preds)\n",
        "print(f'SVM Accuracy: {svm_acc:.2f}')"
      ]
    },
    {
      "cell_type": "code",
      "execution_count": null,
      "metadata": {
        "colab": {
          "background_save": true
        },
        "id": "UF4wLgZTeGv5"
      },
      "outputs": [],
      "source": [
        "# KNN\n",
        "knn_clf = KNeighborsClassifier(n_neighbors=3)\n",
        "knn_clf.fit(X_train, y_train)\n",
        "knn_preds = knn_clf.predict(X_test)\n",
        "knn_acc = accuracy_score(y_test, knn_preds)\n",
        "print(f'KNN Accuracy: {knn_acc:.2f}')"
      ]
    },
    {
      "cell_type": "code",
      "execution_count": null,
      "metadata": {
        "colab": {
          "base_uri": "https://localhost:8080/",
          "height": 485
        },
        "id": "uJxA1HCWeS8u",
        "outputId": "4ddf8e64-155b-4f46-e606-c6f49dff6764"
      },
      "outputs": [
        {
          "data": {
            "text/plain": [
              "Text(0.5, 1.0, 'KNN Confusion Matrix')"
            ]
          },
          "execution_count": 82,
          "metadata": {},
          "output_type": "execute_result"
        },
        {
          "data": {
            "image/png": "[encoded data removed]",
            "text/plain": [
              "<Figure size 1500x500 with 6 Axes>"
            ]
          },
          "metadata": {},
          "output_type": "display_data"
        }
      ],
      "source": [
        "# Plot 3 Confusion Matrices\n",
        "cm_rf = confusion_matrix(y_test, rf_preds)\n",
        "cm_svm = confusion_matrix(y_test, svm_preds)\n",
        "cm_knn = confusion_matrix(y_test, knn_preds)\n",
        "\n",
        "fig, axs = plt.subplots(1, 3, figsize=(15, 5))\n",
        "\n",
        "sns.heatmap(cm_rf, annot=True, fmt='d', cmap='Blues', ax=axs[0], xticklabels=le.classes_, yticklabels=le.classes_)\n",
        "axs[0].set_title('Random Forest Confusion Matrix')\n",
        "\n",
        "sns.heatmap(cm_svm, annot=True, fmt='d', cmap='Blues', ax=axs[1], xticklabels=le.classes_, yticklabels=le.classes_)\n",
        "axs[1].set_title('SVM Confusion Matrix')\n",
        "\n",
        "sns.heatmap(cm_knn, annot=True, fmt='d', cmap='Blues', ax=axs[2], xticklabels=le.classes_, yticklabels=le.classes_)\n",
        "axs[2].set_title('KNN Confusion Matrix')"
      ]
    },
    {
      "cell_type": "code",
      "execution_count": null,
      "metadata": {
        "colab": {
          "base_uri": "https://localhost:8080/",
          "height": 562
        },
        "id": "J96pBgIYfje7",
        "outputId": "d78e2311-af62-472e-cc7c-63eb5f98a7d7",
        "cellView": "form",
        "collapsed": true
      },
      "outputs": [
        {
          "output_type": "execute_result",
          "data": {
            "text/plain": [
              "Text(0.5, 1.0, 'Random Forrest Classifier Confusion Matrix')"
            ]
          },
          "metadata": {},
          "execution_count": 26
        },
        {
          "output_type": "display_data",
          "data": {
            "text/plain": [
              "<Figure size 800x600 with 2 Axes>"
            ],
            "image/png": "[encoded data removed]"
          },
          "metadata": {}
        }
      ],
      "source": [
        "#@title Single Confusion Matrix\n",
        "# RF confusion matrix\n",
        "cm_rf = confusion_matrix(y_test, rf_preds)\n",
        "plt.figure(figsize=(8, 6))\n",
        "sns.heatmap(cm_rf, annot=True, fmt='d', cmap='Blues', xticklabels=le.classes_, yticklabels=le.classes_)\n",
        "plt.title('Random Forrest Classifier Confusion Matrix')"
      ]
    }
  ],
  "metadata": {
    "colab": {
      "provenance": []
    },
    "kernelspec": {
      "display_name": "Python 3",
      "name": "python3"
    },
    "language_info": {
      "name": "python"
    }
  },
  "nbformat": 4,
  "nbformat_minor": 0
}